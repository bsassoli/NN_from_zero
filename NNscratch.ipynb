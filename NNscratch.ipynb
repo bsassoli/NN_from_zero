{
 "cells": [
  {
   "cell_type": "markdown",
   "id": "5678554d",
   "metadata": {
    "toc": true
   },
   "source": [
    "<h1>Table of Contents<span class=\"tocSkip\"></span></h1>\n",
    "<div class=\"toc\"><ul class=\"toc-item\"><li><span><a href=\"#Intro-and-setup\" data-toc-modified-id=\"Intro-and-setup-1\"><span class=\"toc-item-num\">1&nbsp;&nbsp;</span>Intro and setup</a></span></li><li><span><a href=\"#Implementing-a-Neural-Network\" data-toc-modified-id=\"Implementing-a-Neural-Network-2\"><span class=\"toc-item-num\">2&nbsp;&nbsp;</span>Implementing a Neural Network</a></span></li><li><span><a href=\"#Training-the-network\" data-toc-modified-id=\"Training-the-network-3\"><span class=\"toc-item-num\">3&nbsp;&nbsp;</span>Training the network</a></span><ul class=\"toc-item\"><li><span><a href=\"#Training-with-ReLu-activation\" data-toc-modified-id=\"Training-with-ReLu-activation-3.1\"><span class=\"toc-item-num\">3.1&nbsp;&nbsp;</span>Training with ReLu activation</a></span></li><li><span><a href=\"#Training-with-sigmoid-activation\" data-toc-modified-id=\"Training-with-sigmoid-activation-3.2\"><span class=\"toc-item-num\">3.2&nbsp;&nbsp;</span>Training with sigmoid activation</a></span></li><li><span><a href=\"#Training-with-leaky-ReLu\" data-toc-modified-id=\"Training-with-leaky-ReLu-3.3\"><span class=\"toc-item-num\">3.3&nbsp;&nbsp;</span>Training with leaky ReLu</a></span></li><li><span><a href=\"#Training-with-tanh\" data-toc-modified-id=\"Training-with-tanh-3.4\"><span class=\"toc-item-num\">3.4&nbsp;&nbsp;</span>Training with <code>tanh</code></a></span></li></ul></li><li><span><a href=\"#Mini-batches\" data-toc-modified-id=\"Mini-batches-4\"><span class=\"toc-item-num\">4&nbsp;&nbsp;</span>Mini batches</a></span></li><li><span><a href=\"#Evaluating-models\" data-toc-modified-id=\"Evaluating-models-5\"><span class=\"toc-item-num\">5&nbsp;&nbsp;</span>Evaluating models</a></span></li><li><span><a href=\"#PyTorch-simple-implementation\" data-toc-modified-id=\"PyTorch-simple-implementation-6\"><span class=\"toc-item-num\">6&nbsp;&nbsp;</span>PyTorch simple implementation</a></span></li><li><span><a href=\"#Using-my-own-image\" data-toc-modified-id=\"Using-my-own-image-7\"><span class=\"toc-item-num\">7&nbsp;&nbsp;</span>Using my own image</a></span></li></ul></div>"
   ]
  },
  {
   "cell_type": "markdown",
   "id": "b606d6df",
   "metadata": {},
   "source": [
    "# Building a Neural Network from Scratch"
   ]
  },
  {
   "cell_type": "markdown",
   "id": "20d71b4f",
   "metadata": {},
   "source": [
    "## Intro and setup"
   ]
  },
  {
   "cell_type": "markdown",
   "id": "083acb34",
   "metadata": {},
   "source": [
    "The purpose of this notebook is simple. I want to build a simple Artificial Neural Network without using any framework such as `scikit-learn`, `PyTorch` or `TensorFlow`.\n",
    "I believe this will help me gain a deeper understanding of the mathematics involved and will help that understanding sediment in my memory better.\n",
    "First of all let's import some libraries. Since we aren't going to use any deep learning or machine learning frameworks, the number of imports will be limited."
   ]
  },
  {
   "cell_type": "code",
   "execution_count": 62,
   "id": "a843a2e9",
   "metadata": {},
   "outputs": [],
   "source": [
    "import numpy as np\n",
    "import matplotlib.pyplot as plt\n",
    "from typing import List\n",
    "import pickle # To store data and trained models\n",
    "from tqdm import tqdm # To visualize progress bars during training\n",
    "\n",
    "%matplotlib inline\n",
    "%config InlineBackend.figure_format = 'retina'"
   ]
  },
  {
   "cell_type": "markdown",
   "id": "039a70f4",
   "metadata": {},
   "source": [
    "We will be training and testing our network using the [MNIST_784 dataset](https://www.openml.org/d/554). We can download that as a `python` dictionary using `scikit-learn`."
   ]
  },
  {
   "cell_type": "code",
   "execution_count": 2,
   "id": "67af3d76",
   "metadata": {},
   "outputs": [],
   "source": [
    "from sklearn.datasets import fetch_openml\n",
    "mnist = fetch_openml(name=\"mnist_784\")"
   ]
  },
  {
   "cell_type": "code",
   "execution_count": 3,
   "id": "145324fa",
   "metadata": {},
   "outputs": [],
   "source": [
    "with open(\"mnist.pickle\", 'wb') as f:\n",
    "    pickle.dump(mnist, f)"
   ]
  },
  {
   "cell_type": "code",
   "execution_count": 199,
   "id": "438cfccb",
   "metadata": {},
   "outputs": [],
   "source": [
    "with open(\"mnist.pickle\", 'rb') as f:\n",
    "    mnist = pickle.load(f)"
   ]
  },
  {
   "cell_type": "code",
   "execution_count": 207,
   "id": "4e2e9af9",
   "metadata": {},
   "outputs": [],
   "source": [
    "data = mnist.data\n",
    "labels = mnist.target"
   ]
  },
  {
   "cell_type": "code",
   "execution_count": 65,
   "id": "5f94a005",
   "metadata": {},
   "outputs": [
    {
     "data": {
      "text/plain": [
       "dict_keys(['data', 'target', 'frame', 'categories', 'feature_names', 'target_names', 'DESCR', 'details', 'url'])"
      ]
     },
     "execution_count": 65,
     "metadata": {},
     "output_type": "execute_result"
    }
   ],
   "source": [
    "mnist.keys()"
   ]
  },
  {
   "cell_type": "code",
   "execution_count": 66,
   "id": "4aea5af8",
   "metadata": {},
   "outputs": [
    {
     "name": "stdout",
     "output_type": "stream",
     "text": [
      "43545\n"
     ]
    }
   ],
   "source": [
    "# Let's select a random datapoint.\n",
    "# np.random.seed(42)\n",
    "n = np.random.choice(np.arange(data.shape[0]+1))\n",
    "print(n)\n",
    "test_img = data.iloc[n].values\n",
    "test_label = mnist.target.iloc[n]"
   ]
  },
  {
   "cell_type": "code",
   "execution_count": 67,
   "id": "ba9fa108",
   "metadata": {},
   "outputs": [
    {
     "name": "stdout",
     "output_type": "stream",
     "text": [
      "(784,)\n"
     ]
    }
   ],
   "source": [
    "print(test_img.shape)"
   ]
  },
  {
   "cell_type": "code",
   "execution_count": 68,
   "id": "991d8dc3",
   "metadata": {},
   "outputs": [
    {
     "name": "stdout",
     "output_type": "stream",
     "text": [
      "Image label: 6\n"
     ]
    },
    {
     "data": {
      "image/png": "[encoded data removed]",
      "text/plain": [
       "<Figure size 432x288 with 1 Axes>"
      ]
     },
     "metadata": {
      "image/png": {
       "height": 231,
       "width": 231
      },
      "needs_background": "light"
     },
     "output_type": "display_data"
    }
   ],
   "source": [
    "side_length = int(np.sqrt(test_img.shape))\n",
    "reshaped_test_img = test_img.reshape(side_length, side_length)\n",
    "print(\"Image label: \" + str(test_label))\n",
    "plt.imshow(reshaped_test_img, cmap=\"Greys\")\n",
    "plt.axis('off')\n",
    "plt.show()"
   ]
  },
  {
   "cell_type": "markdown",
   "id": "9d587aa6",
   "metadata": {},
   "source": [
    "So we know that image is a vector of shape 784, which is a flattened 28 x 28 2D matrix.\n",
    "If we split our dataset into a training set with e.g. 60.000 datapoints and a test set with 10.000 datapoints we will end up with the following: $input\\;layer\\;size = m*n$, where $m$ is the number of samples and $n$ the number of features. Hence in our case the network's input layer with have size (60.000 x 784).<br>Let's start by coding a simple NN with just one hidden layer.\n",
    "If the hidden layer has say 4 nodes: how do we control the mapping from the input layer to the hidden layer? In other words, what should be the size of the **weight matrix**?"
   ]
  },
  {
   "cell_type": "markdown",
   "id": "1431abc9",
   "metadata": {},
   "source": [
    "Each node in the input layer will connect to each input in the hidden layer. So we will need 784 * 4 = 3136 weights. And each node in the hidden layer will add a bias to each weighted sum so we'll need 4 biases."
   ]
  },
  {
   "cell_type": "markdown",
   "id": "f8f789bb",
   "metadata": {},
   "source": [
    "As a rule: if layer $L_n$ has $s_n$ nodes and layer $L_{n+1}$ has $s_{n+1\n",
    "}$ nodes then the $\\Theta_n$ matrix mapping fron $L_n$ to $L_{n+1}$ will be of size $(s_{n+1},\\;s_{n})$."
   ]
  },
  {
   "cell_type": "code",
   "execution_count": 69,
   "id": "7f2ad74b",
   "metadata": {},
   "outputs": [
    {
     "name": "stdout",
     "output_type": "stream",
     "text": [
      "(4, 70000)\n"
     ]
    }
   ],
   "source": [
    "w1 = np.ones((4, 784)) * 0.01\n",
    "z1 = np.dot(w1, data.T)\n",
    "print(z1.shape)"
   ]
  },
  {
   "cell_type": "code",
   "execution_count": 70,
   "id": "61344ea4",
   "metadata": {},
   "outputs": [
    {
     "name": "stdout",
     "output_type": "stream",
     "text": [
      "(10, 70000)\n"
     ]
    }
   ],
   "source": [
    "w2 = np.ones((10, 4))\n",
    "z2 = np.dot(w2, z1)\n",
    "print(z2.shape)"
   ]
  },
  {
   "cell_type": "markdown",
   "id": "4f775ec9",
   "metadata": {},
   "source": [
    "(But remember: we need to add *biases* to each node in the hidden layer.)"
   ]
  },
  {
   "cell_type": "markdown",
   "id": "0235029d",
   "metadata": {},
   "source": [
    "## Implementing a Neural Network"
   ]
  },
  {
   "cell_type": "markdown",
   "id": "164d8552",
   "metadata": {},
   "source": [
    "Let's start by defining some **activation functions**:"
   ]
  },
  {
   "cell_type": "code",
   "execution_count": 71,
   "id": "c9f3d80b",
   "metadata": {},
   "outputs": [],
   "source": [
    "def sigmoid(z: np.ndarray) -> np.ndarray:\n",
    "    return 1.0 / (1.0 + np.exp(-z))"
   ]
  },
  {
   "cell_type": "code",
   "execution_count": 72,
   "id": "009ae73e",
   "metadata": {},
   "outputs": [],
   "source": [
    "def relu(z: np.ndarray) -> np.ndarray:\n",
    "    return np.maximum(0, z)"
   ]
  },
  {
   "cell_type": "code",
   "execution_count": 73,
   "id": "1cd1bcb6",
   "metadata": {},
   "outputs": [],
   "source": [
    "def tanh(z: np.ndarray) -> np.ndarray:\n",
    "    return np.tanh(z)"
   ]
  },
  {
   "cell_type": "code",
   "execution_count": 74,
   "id": "d94d983e",
   "metadata": {},
   "outputs": [],
   "source": [
    "def leaky_relu(z: np.ndarray) -> np.ndarray:\n",
    "    return np.where(z > 0, z, z * 0.01)"
   ]
  },
  {
   "cell_type": "markdown",
   "id": "1ba3d2ea",
   "metadata": {},
   "source": [
    "For the final layer we will use **softmax** given that this is a multiclass classification problem."
   ]
  },
  {
   "cell_type": "code",
   "execution_count": 75,
   "id": "6c57a9ad",
   "metadata": {},
   "outputs": [],
   "source": [
    "def softmax(z: np.ndarray) -> np.ndarray:\n",
    "    e = np.exp(z - np.max(z))\n",
    "    return e / np.sum(e, axis=0, keepdims=True)"
   ]
  },
  {
   "cell_type": "markdown",
   "id": "b7de2b08",
   "metadata": {},
   "source": [
    "We are also going to need some pre-processing functions:"
   ]
  },
  {
   "cell_type": "code",
   "execution_count": 76,
   "id": "9cecef72",
   "metadata": {},
   "outputs": [],
   "source": [
    "def normalize(x: np.ndarray) -> np.ndarray:\n",
    "    return (x - np.min(x)) / (np.max(x) - np.min(x))"
   ]
  },
  {
   "cell_type": "code",
   "execution_count": 77,
   "id": "4bbb9352",
   "metadata": {},
   "outputs": [],
   "source": [
    "def one_hot_encode(x: np.ndarray, num_labels: int) -> np.ndarray:\n",
    "    return np.eye(num_labels)[x]"
   ]
  },
  {
   "cell_type": "markdown",
   "id": "1c9fe4c4",
   "metadata": {},
   "source": [
    "Finally, we will need derivatives for the activation functions to perform gradient descent."
   ]
  },
  {
   "cell_type": "code",
   "execution_count": 78,
   "id": "cfa0e5bb",
   "metadata": {},
   "outputs": [],
   "source": [
    "def derivative(function_name: str, z: np.ndarray) -> np.ndarray:\n",
    "    if function_name == \"sigmoid\":\n",
    "        return sigmoid(z) * (1 - sigmoid(z))\n",
    "    if function_name == \"tanh\":\n",
    "        return 1 - np.square(tanh(z))\n",
    "    if function_name == \"relu\":\n",
    "        y = (z > 0) * 1\n",
    "        return y\n",
    "    if function_name == \"leaky_relu\":\n",
    "        return  np.where(z > 0, 1, 0.01)\n",
    "    return \"No such activation\""
   ]
  },
  {
   "cell_type": "markdown",
   "id": "ec7d6693",
   "metadata": {},
   "source": [
    "We now have everything we need for our deep neural network."
   ]
  },
  {
   "cell_type": "code",
   "execution_count": 127,
   "id": "7fc5eeeb",
   "metadata": {},
   "outputs": [],
   "source": [
    "class NN(object):\n",
    "    def __init__(self, X: np.ndarray, y: np.ndarray, X_test: np.ndarray, y_test: np.ndarray, activation: str, num_labels: int, architecture: List[int]):\n",
    "        self.X = normalize(X) # normalize training data in range 0,1\n",
    "        assert np.all((self.X >= 0) | (self.X <= 1)) # test that normalize succeded\n",
    "        self.X, self.X_test = X.copy(), X_test.copy()\n",
    "        self.y, self.y_test = y.copy(), y_test.copy()\n",
    "        self.layers = {} # define dict to store results of activation\n",
    "        self.architecture = architecture # size of hidden layers as array  \n",
    "        self.activation = activation # activation function\n",
    "        assert self.activation in [\"relu\", \"tanh\", \"sigmoid\", \"leaky_relu\"]\n",
    "        self.parameters = {}\n",
    "        self.num_labels = num_labels\n",
    "        self.m = X.shape[1]\n",
    "        self.architecture.append(self.num_labels)\n",
    "        self.num_input_features = X.shape[0]\n",
    "        self.architecture.insert(0, self.num_input_features)\n",
    "        self.L = len(architecture) \n",
    "        assert self.X.shape == (self.num_input_features, self.m)\n",
    "        assert self.y.shape == (self.num_labels, self.m)\n",
    "        \n",
    "    def initialize_parameters(self):\n",
    "        for i in range(1, self.L):\n",
    "            print(f\"Initializing parameters for layer: {i}.\")\n",
    "            self.parameters[\"w\"+str(i)] = np.random.randn(self.architecture[i], self.architecture[i-1]) * 0.01\n",
    "            self.parameters[\"b\"+str(i)] = np.zeros((self.architecture[i], 1))\n",
    "    \n",
    "    \n",
    "    def forward(self):\n",
    "        params=self.parameters\n",
    "        self.layers[\"a0\"] = self.X\n",
    "        for l in range(1, self.L-1):\n",
    "            self.layers[\"z\" + str(l)] = np.dot(params[\"w\" + str(l)], \n",
    "                                               self.layers[\"a\"+str(l-1)]) + params[\"b\"+str(l)]\n",
    "            self.layers[\"a\" + str(l)] = eval(self.activation)(self.layers[\"z\"+str(l)])\n",
    "            assert self.layers[\"a\"+str(l)].shape == (self.architecture[l], self.m)\n",
    "        self.layers[\"z\" + str(self.L-1)] = np.dot(params[\"w\" + str(self.L-1)],\n",
    "                                                  self.layers[\"a\"+str(self.L-2)]) + params[\"b\"+str(self.L-1)]\n",
    "        self.layers[\"a\"+str(self.L-1)] = softmax(self.layers[\"z\"+str(self.L-1)])\n",
    "        self.output = self.layers[\"a\"+str(self.L-1)]\n",
    "        assert self.output.shape == (self.num_labels, self.m)\n",
    "        assert all([s for s in np.sum(self.output, axis=1)])        \n",
    "        \n",
    "        cost = - np.sum(self.y * np.log(self.output + 0.000000001))\n",
    "\n",
    "        return cost, self.layers\n",
    "\n",
    "\n",
    "    def backpropagate(self):\n",
    "        derivatives = {}\n",
    "        dZ = self.output - self.y\n",
    "        assert dZ.shape == (self.num_labels, self.m)\n",
    "        dW = np.dot(dZ, self.layers[\"a\" + str(self.L-2)].T) / self.m\n",
    "        db = np.sum(dZ, axis=1, keepdims=True) / self.m\n",
    "        dAPrev = np.dot(self.parameters[\"w\" + str(self.L-1)].T, dZ)\n",
    "        derivatives[\"dW\" + str(self.L-1)] = dW\n",
    "        derivatives[\"db\" + str(self.L-1)] = db\n",
    "        \n",
    "        for l in range(self.L-2, 0, -1):\n",
    "            \n",
    "            dZ = dAPrev * derivative(self.activation, self.layers[\"z\" + str(l)])  \n",
    "            dW = 1. / self.m * np.dot(dZ, self.layers[\"a\" + str(l-1)].T)\n",
    "            db = 1. / self.m * np.sum(dZ, axis=1, keepdims=True)\n",
    "            if l > 1:\n",
    "                dAPrev = np.dot(self.parameters[\"w\" + str(l)].T, (dZ))\n",
    "            derivatives[\"dW\" + str(l)] = dW\n",
    "            derivatives[\"db\" + str(l)] = db\n",
    "        self.derivatives = derivatives\n",
    "        \n",
    "        return self.derivatives\n",
    "\n",
    "    \n",
    "    def fit(self, lr=0.01, epochs=1000):\n",
    "        self.costs = [] \n",
    "        self.initialize_parameters()\n",
    "        self.accuracies = {\"train\": [], \"test\": []}\n",
    "        for epoch in tqdm(range(epochs), colour=\"BLUE\"):\n",
    "            cost, cache = self.forward()\n",
    "            self.costs.append(cost)\n",
    "            derivatives = self.backpropagate()            \n",
    "            for layer in range(1, self.L):\n",
    "                self.parameters[\"w\"+str(layer)] = self.parameters[\"w\"+str(layer)] - lr * derivatives[\"dW\" + str(layer)]\n",
    "                self.parameters[\"b\"+str(layer)] = self.parameters[\"b\"+str(layer)] - lr * derivatives[\"db\" + str(layer)]            \n",
    "            train_accuracy = self.accuracy(self.X, self.y)\n",
    "            test_accuracy = self.accuracy(self.X_test, self.y_test)\n",
    "            if epoch % 10 == 0:\n",
    "                print(f\"Epoch: {epoch:3d} | Cost: {cost:.3f} | Accuracy: {train_accuracy:.3f}\")\n",
    "            self.accuracies[\"train\"].append(train_accuracy)\n",
    "            self.accuracies[\"test\"].append(test_accuracy)\n",
    "        print(\"Training terminated\")\n",
    "\n",
    "\n",
    "    def predict(self, x):\n",
    "        params = self.parameters\n",
    "        n_layers = self.L - 1\n",
    "        values = [x]\n",
    "        for l in range(1, n_layers):\n",
    "            z = np.dot(params[\"w\" + str(l)], values[l-1]) + params[\"b\" + str(l)]\n",
    "            a = eval(self.activation)(z)\n",
    "            values.append(a)\n",
    "        z = np.dot(params[\"w\"+str(n_layers)], values[n_layers-1]) + params[\"b\"+str(n_layers)]\n",
    "        a = softmax(z)\n",
    "        if x.shape[1]>1:\n",
    "            ans = np.argmax(a, axis=0)\n",
    "        else:\n",
    "            ans = np.argmax(a)\n",
    "        return ans\n",
    "    \n",
    "    \n",
    "    def accuracy(self, X, y):\n",
    "        P = self.predict(X)\n",
    "        return sum(np.equal(P, np.argmax(y, axis=0))) / y.shape[1]*100\n",
    "    \n",
    "    \n",
    "    def pickle_model(self, name: str):\n",
    "        with open(\"fitted_model_\"+ name + \".pickle\", \"wb\") as modelFile:\n",
    "            pickle.dump(self, modelFile)\n",
    "    \n",
    "    \n",
    "    def plot_counts(self):\n",
    "        counts = np.unique(np.argmax(self.output, axis=0), return_counts=True)\n",
    "        plt.bar(counts[0], counts[1], color=\"navy\")\n",
    "        plt.ylabel(\"Counts\")\n",
    "        plt.xlabel(\"y_hat\")\n",
    "        plt.title(\"Distribution of predictions\")\n",
    "        plt.show()\n",
    "    \n",
    "    \n",
    "    def plot_cost(self, lr):\n",
    "        plt.figure(figsize=(8, 4))\n",
    "        plt.plot(np.arange(0, len(self.costs)), self.costs, lw=1, color=\"orange\")\n",
    "        plt.title(f\"Learning rate: {lr}\\nFinal Cost: {self.costs[-1]:.5f}\", fontdict={\n",
    "        \"family\":\"sans-serif\", \n",
    "        \"size\": \"12\"})\n",
    "        plt.xlabel(\"Epoch\")\n",
    "        plt.ylabel(\"Cost\")\n",
    "        plt.show()\n",
    "    \n",
    "    \n",
    "    def plot_accuracies(self, lr):\n",
    "        acc = self.accuracies\n",
    "        fig = plt.figure(figsize=(6,4))\n",
    "        ax = fig.add_subplot(111)\n",
    "        ax.plot(acc[\"train\"], label=\"train\")\n",
    "        ax.plot(acc[\"test\"], label=\"test\")\n",
    "        plt.legend(loc=\"lower right\")\n",
    "        ax.set_title(\"Accuracy\")\n",
    "        ax.annotate(f\"Train: {acc['train'][-1]:.2f}\", (len(acc[\"train\"])+4, acc[\"train\"][-1]+2), color=\"blue\")\n",
    "        ax.annotate(f\"Test: {acc['test'][-1]:.2f}\", (len(acc[\"test\"])+4, acc[\"test\"][-1]-2), color=\"orange\")\n",
    "        ax.spines[\"right\"].set_visible(False)\n",
    "        ax.spines[\"top\"].set_visible(False)\n",
    "        plt.show()\n",
    "    \n",
    "    def __str__(self):                \n",
    "        return str(self.architecture)"
   ]
  },
  {
   "cell_type": "markdown",
   "id": "48fb7848",
   "metadata": {},
   "source": [
    "## Training the network"
   ]
  },
  {
   "cell_type": "markdown",
   "id": "dfb1cf53",
   "metadata": {},
   "source": [
    "Let's split the data into a training and a test set."
   ]
  },
  {
   "cell_type": "code",
   "execution_count": 235,
   "id": "29185f54",
   "metadata": {},
   "outputs": [],
   "source": [
    "# reloading data\n",
    "with open(\"mnist.pickle\", 'rb') as f:\n",
    "    mnist = pickle.load(f)\n",
    "data = mnist.data\n",
    "labels = mnist.target"
   ]
  },
  {
   "cell_type": "code",
   "execution_count": 236,
   "id": "974b7d64",
   "metadata": {},
   "outputs": [],
   "source": [
    "train_test_split_no = 60000"
   ]
  },
  {
   "cell_type": "code",
   "execution_count": 237,
   "id": "aaa23aef",
   "metadata": {},
   "outputs": [],
   "source": [
    "X_train = data.values[:train_test_split_no].T\n",
    "y_train = labels[:train_test_split_no].values.astype(int)\n",
    "y_train = one_hot_encode(y_train, 10).T"
   ]
  },
  {
   "cell_type": "code",
   "execution_count": 238,
   "id": "3de8c91f",
   "metadata": {},
   "outputs": [],
   "source": [
    "X_test = data.values[train_test_split_no:].T\n",
    "y_test = labels[train_test_split_no:].values.astype(int)\n",
    "y_test = one_hot_encode(y_test, 10).T"
   ]
  },
  {
   "cell_type": "code",
   "execution_count": 239,
   "id": "eed6b659",
   "metadata": {},
   "outputs": [
    {
     "data": {
      "text/plain": [
       "((784, 60000), (784, 10000))"
      ]
     },
     "execution_count": 239,
     "metadata": {},
     "output_type": "execute_result"
    }
   ],
   "source": [
    "X_train.shape, X_test.shape"
   ]
  },
  {
   "cell_type": "markdown",
   "id": "9f78ed62",
   "metadata": {},
   "source": [
    "### Training with ReLu activation"
   ]
  },
  {
   "cell_type": "code",
   "execution_count": 229,
   "id": "6e3a0cc9",
   "metadata": {},
   "outputs": [],
   "source": [
    "PARAMS = [X_train, y_train, X_test, y_test, \"relu\", 10, [512, 300]]"
   ]
  },
  {
   "cell_type": "code",
   "execution_count": 230,
   "id": "19169bf3",
   "metadata": {},
   "outputs": [],
   "source": [
    "nn_relu = NN(*PARAMS)"
   ]
  },
  {
   "cell_type": "code",
   "execution_count": 231,
   "id": "584e1653",
   "metadata": {},
   "outputs": [],
   "source": [
    "epochs_relu = 50\n",
    "lr_relu = 0.003"
   ]
  },
  {
   "cell_type": "code",
   "execution_count": 232,
   "id": "53ab9575",
   "metadata": {
    "scrolled": true
   },
   "outputs": [
    {
     "name": "stderr",
     "output_type": "stream",
     "text": [
      "\r",
      "  0%|\u001b[34m          \u001b[0m| 0/50 [00:00<?, ?it/s]"
     ]
    },
    {
     "name": "stdout",
     "output_type": "stream",
     "text": [
      "Initializing parameters for layer: 1.\n",
      "Initializing parameters for layer: 2.\n",
      "Initializing parameters for layer: 3.\n"
     ]
    },
    {
     "name": "stderr",
     "output_type": "stream",
     "text": [
      "\r",
      "  2%|\u001b[34m▏         \u001b[0m| 1/50 [00:04<03:52,  4.74s/it]"
     ]
    },
    {
     "name": "stdout",
     "output_type": "stream",
     "text": [
      "Epoch:   0 | Cost: 146154.837 | Accuracy: 18.590\n"
     ]
    },
    {
     "name": "stderr",
     "output_type": "stream",
     "text": [
      " 22%|\u001b[34m██▏       \u001b[0m| 11/50 [00:54<03:17,  5.08s/it]"
     ]
    },
    {
     "name": "stdout",
     "output_type": "stream",
     "text": [
      "Epoch:  10 | Cost: 77131.526 | Accuracy: 75.060\n"
     ]
    },
    {
     "name": "stderr",
     "output_type": "stream",
     "text": [
      " 42%|\u001b[34m████▏     \u001b[0m| 21/50 [01:46<02:32,  5.24s/it]"
     ]
    },
    {
     "name": "stdout",
     "output_type": "stream",
     "text": [
      "Epoch:  20 | Cost: 47151.615 | Accuracy: 82.263\n"
     ]
    },
    {
     "name": "stderr",
     "output_type": "stream",
     "text": [
      " 62%|\u001b[34m██████▏   \u001b[0m| 31/50 [02:38<01:38,  5.17s/it]"
     ]
    },
    {
     "name": "stdout",
     "output_type": "stream",
     "text": [
      "Epoch:  30 | Cost: 35998.465 | Accuracy: 85.198\n"
     ]
    },
    {
     "name": "stderr",
     "output_type": "stream",
     "text": [
      " 82%|\u001b[34m████████▏ \u001b[0m| 41/50 [14:11<03:04, 20.55s/it] "
     ]
    },
    {
     "name": "stdout",
     "output_type": "stream",
     "text": [
      "Epoch:  40 | Cost: 30510.154 | Accuracy: 86.967\n"
     ]
    },
    {
     "name": "stderr",
     "output_type": "stream",
     "text": [
      "100%|\u001b[34m██████████\u001b[0m| 50/50 [14:53<00:00, 17.87s/it]"
     ]
    },
    {
     "name": "stdout",
     "output_type": "stream",
     "text": [
      "Training terminated\n"
     ]
    },
    {
     "name": "stderr",
     "output_type": "stream",
     "text": [
      "\n"
     ]
    }
   ],
   "source": [
    "nn_relu.fit(lr=lr_relu, epochs=epochs_relu)"
   ]
  },
  {
   "cell_type": "code",
   "execution_count": 233,
   "id": "6198bcf1",
   "metadata": {},
   "outputs": [
    {
     "data": {
      "image/png": "[encoded data removed]",
      "text/plain": [
       "<Figure size 576x288 with 1 Axes>"
      ]
     },
     "metadata": {
      "image/png": {
       "height": 291,
       "width": 519
      },
      "needs_background": "light"
     },
     "output_type": "display_data"
    }
   ],
   "source": [
    "nn_relu.plot_cost(lr_relu)"
   ]
  },
  {
   "cell_type": "code",
   "execution_count": 234,
   "id": "d1e136c3",
   "metadata": {},
   "outputs": [
    {
     "data": {
      "image/png": "[encoded data removed]",
      "text/plain": [
       "<Figure size 432x288 with 1 Axes>"
      ]
     },
     "metadata": {
      "image/png": {
       "height": 263,
       "width": 369
      },
      "needs_background": "light"
     },
     "output_type": "display_data"
    }
   ],
   "source": [
    "nn_relu.plot_accuracies(lr_relu)"
   ]
  },
  {
   "cell_type": "code",
   "execution_count": 219,
   "id": "381366d0",
   "metadata": {},
   "outputs": [],
   "source": [
    "nn_relu.pickle_model(\"relu\")"
   ]
  },
  {
   "cell_type": "code",
   "execution_count": 131,
   "id": "04fae464",
   "metadata": {},
   "outputs": [],
   "source": [
    "with open(\"fitted_model_relu.pickle\", \"rb\") as f:\n",
    "    nn_relu = pickle.load(f)"
   ]
  },
  {
   "cell_type": "markdown",
   "id": "757bee47",
   "metadata": {},
   "source": [
    "### Training with sigmoid activation"
   ]
  },
  {
   "cell_type": "code",
   "execution_count": 240,
   "id": "f227bc93",
   "metadata": {},
   "outputs": [],
   "source": [
    "PARAMS_sigmoid = [X_train, y_train, X_test, y_test, \"sigmoid\", 10, [512, 300]]"
   ]
  },
  {
   "cell_type": "code",
   "execution_count": 241,
   "id": "fd1d95b9",
   "metadata": {},
   "outputs": [],
   "source": [
    "lr_sigmoid = 0.01\n",
    "epochs_sigmoid = 150"
   ]
  },
  {
   "cell_type": "code",
   "execution_count": 242,
   "id": "ae173643",
   "metadata": {},
   "outputs": [],
   "source": [
    "nn_sigmoid = NN(*PARAMS_sigmoid)"
   ]
  },
  {
   "cell_type": "code",
   "execution_count": null,
   "id": "7cdcf927",
   "metadata": {},
   "outputs": [
    {
     "name": "stderr",
     "output_type": "stream",
     "text": [
      "\r",
      "  0%|\u001b[34m          \u001b[0m| 0/150 [00:00<?, ?it/s]"
     ]
    },
    {
     "name": "stdout",
     "output_type": "stream",
     "text": [
      "Initializing parameters for layer: 1.\n",
      "Initializing parameters for layer: 2.\n",
      "Initializing parameters for layer: 3.\n"
     ]
    },
    {
     "name": "stderr",
     "output_type": "stream",
     "text": [
      "\r",
      "  1%|\u001b[34m          \u001b[0m| 1/150 [00:06<16:18,  6.57s/it]"
     ]
    },
    {
     "name": "stdout",
     "output_type": "stream",
     "text": [
      "Epoch:   0 | Cost: 138685.114 | Accuracy: 9.737\n"
     ]
    },
    {
     "name": "stderr",
     "output_type": "stream",
     "text": [
      "  7%|\u001b[34m▋         \u001b[0m| 11/150 [01:09<14:37,  6.32s/it]"
     ]
    },
    {
     "name": "stdout",
     "output_type": "stream",
     "text": [
      "Epoch:  10 | Cost: 138125.949 | Accuracy: 9.737\n"
     ]
    },
    {
     "name": "stderr",
     "output_type": "stream",
     "text": [
      " 14%|\u001b[34m█▍        \u001b[0m| 21/150 [02:14<13:58,  6.50s/it]"
     ]
    },
    {
     "name": "stdout",
     "output_type": "stream",
     "text": [
      "Epoch:  20 | Cost: 137980.568 | Accuracy: 11.237\n"
     ]
    },
    {
     "name": "stderr",
     "output_type": "stream",
     "text": [
      " 21%|\u001b[34m██        \u001b[0m| 31/150 [03:19<13:07,  6.62s/it]"
     ]
    },
    {
     "name": "stdout",
     "output_type": "stream",
     "text": [
      "Epoch:  30 | Cost: 137912.456 | Accuracy: 11.237\n"
     ]
    },
    {
     "name": "stderr",
     "output_type": "stream",
     "text": [
      " 27%|\u001b[34m██▋       \u001b[0m| 40/150 [04:20<12:22,  6.75s/it]"
     ]
    }
   ],
   "source": [
    "nn_sigmoid.fit(lr=lr_sigmoid, epochs=epochs_sigmoid)"
   ]
  },
  {
   "cell_type": "code",
   "execution_count": 366,
   "id": "94a65390",
   "metadata": {},
   "outputs": [],
   "source": [
    "nn_sigmoid.pickle_model(\"sigmoid\")"
   ]
  },
  {
   "cell_type": "code",
   "execution_count": 37,
   "id": "a9a6bb22",
   "metadata": {},
   "outputs": [],
   "source": [
    "with open(\"fitted_model_sigmoid.pickle\", \"rb\") as f:\n",
    "    nn_sigmoid = pickle.load(f)"
   ]
  },
  {
   "cell_type": "code",
   "execution_count": 38,
   "id": "b6f76b10",
   "metadata": {
    "scrolled": true
   },
   "outputs": [
    {
     "data": {
      "image/png": "[encoded data removed]",
      "text/plain": [
       "<Figure size 576x288 with 1 Axes>"
      ]
     },
     "metadata": {
      "image/png": {
       "height": 291,
       "width": 513
      },
      "needs_background": "light"
     },
     "output_type": "display_data"
    }
   ],
   "source": [
    "nn_sigmoid.plot_cost(lr_sigmoid)"
   ]
  },
  {
   "cell_type": "code",
   "execution_count": 39,
   "id": "7c787219",
   "metadata": {},
   "outputs": [
    {
     "data": {
      "image/png": "[encoded data removed]",
      "text/plain": [
       "<Figure size 432x288 with 1 Axes>"
      ]
     },
     "metadata": {
      "image/png": {
       "height": 263,
       "width": 428
      },
      "needs_background": "light"
     },
     "output_type": "display_data"
    }
   ],
   "source": [
    "nn_sigmoid.plot_accuracies(lr_sigmoid)"
   ]
  },
  {
   "cell_type": "markdown",
   "id": "1a57216b",
   "metadata": {},
   "source": [
    "### Training with leaky ReLu"
   ]
  },
  {
   "cell_type": "code",
   "execution_count": 77,
   "id": "0188f5cf",
   "metadata": {},
   "outputs": [],
   "source": [
    "PARAMS_leaky = [X_train, y_train, X_test, y_test, \"leaky_relu\", 10, [128, 32]]"
   ]
  },
  {
   "cell_type": "code",
   "execution_count": 78,
   "id": "18163f2b",
   "metadata": {},
   "outputs": [],
   "source": [
    "nn_leaky = NN(*PARAMS_leaky)"
   ]
  },
  {
   "cell_type": "code",
   "execution_count": 79,
   "id": "769d8245",
   "metadata": {},
   "outputs": [],
   "source": [
    "lr_leaky = 0.003\n",
    "epochs_leaky = 200"
   ]
  },
  {
   "cell_type": "code",
   "execution_count": 80,
   "id": "fabfef2c",
   "metadata": {
    "scrolled": false
   },
   "outputs": [
    {
     "name": "stderr",
     "output_type": "stream",
     "text": [
      "\r\n",
      "  0%|\u001b[34m          \u001b[0m| 0/200 [00:00<?, ?it/s]"
     ]
    },
    {
     "name": "stdout",
     "output_type": "stream",
     "text": [
      "Initializing parameters for layer: 1.\n",
      "Initializing parameters for layer: 2.\n",
      "Initializing parameters for layer: 3.\n"
     ]
    },
    {
     "name": "stderr",
     "output_type": "stream",
     "text": [
      "\r\n",
      "  0%|\u001b[34m          \u001b[0m| 1/200 [00:01<04:26,  1.34s/it]"
     ]
    },
    {
     "name": "stdout",
     "output_type": "stream",
     "text": [
      "Epoch:   0 | Cost: 138393.976 | Accuracy: 8.328\n"
     ]
    },
    {
     "name": "stderr",
     "output_type": "stream",
     "text": [
      "  6%|\u001b[34m▌         \u001b[0m| 11/200 [00:13<03:56,  1.25s/it]"
     ]
    },
    {
     "name": "stdout",
     "output_type": "stream",
     "text": [
      "Epoch:  10 | Cost: 135399.276 | Accuracy: 22.795\n"
     ]
    },
    {
     "name": "stderr",
     "output_type": "stream",
     "text": [
      " 10%|\u001b[34m█         \u001b[0m| 21/200 [00:26<03:46,  1.26s/it]"
     ]
    },
    {
     "name": "stdout",
     "output_type": "stream",
     "text": [
      "Epoch:  20 | Cost: 130679.610 | Accuracy: 37.838\n"
     ]
    },
    {
     "name": "stderr",
     "output_type": "stream",
     "text": [
      " 16%|\u001b[34m█▌        \u001b[0m| 31/200 [00:38<03:31,  1.25s/it]"
     ]
    },
    {
     "name": "stdout",
     "output_type": "stream",
     "text": [
      "Epoch:  30 | Cost: 121661.152 | Accuracy: 48.312\n"
     ]
    },
    {
     "name": "stderr",
     "output_type": "stream",
     "text": [
      " 20%|\u001b[34m██        \u001b[0m| 41/200 [00:51<03:19,  1.25s/it]"
     ]
    },
    {
     "name": "stdout",
     "output_type": "stream",
     "text": [
      "Epoch:  40 | Cost: 105656.536 | Accuracy: 57.497\n"
     ]
    },
    {
     "name": "stderr",
     "output_type": "stream",
     "text": [
      " 26%|\u001b[34m██▌       \u001b[0m| 51/200 [01:04<03:07,  1.26s/it]"
     ]
    },
    {
     "name": "stdout",
     "output_type": "stream",
     "text": [
      "Epoch:  50 | Cost: 86155.206 | Accuracy: 65.415\n"
     ]
    },
    {
     "name": "stderr",
     "output_type": "stream",
     "text": [
      " 30%|\u001b[34m███       \u001b[0m| 61/200 [01:16<02:55,  1.26s/it]"
     ]
    },
    {
     "name": "stdout",
     "output_type": "stream",
     "text": [
      "Epoch:  60 | Cost: 69437.813 | Accuracy: 71.528\n"
     ]
    },
    {
     "name": "stderr",
     "output_type": "stream",
     "text": [
      " 36%|\u001b[34m███▌      \u001b[0m| 71/200 [01:29<02:42,  1.26s/it]"
     ]
    },
    {
     "name": "stdout",
     "output_type": "stream",
     "text": [
      "Epoch:  70 | Cost: 57214.183 | Accuracy: 75.895\n"
     ]
    },
    {
     "name": "stderr",
     "output_type": "stream",
     "text": [
      " 40%|\u001b[34m████      \u001b[0m| 81/200 [01:41<02:29,  1.26s/it]"
     ]
    },
    {
     "name": "stdout",
     "output_type": "stream",
     "text": [
      "Epoch:  80 | Cost: 48812.132 | Accuracy: 78.590\n"
     ]
    },
    {
     "name": "stderr",
     "output_type": "stream",
     "text": [
      " 46%|\u001b[34m████▌     \u001b[0m| 91/200 [01:54<02:20,  1.29s/it]"
     ]
    },
    {
     "name": "stdout",
     "output_type": "stream",
     "text": [
      "Epoch:  90 | Cost: 43022.844 | Accuracy: 80.557\n"
     ]
    },
    {
     "name": "stderr",
     "output_type": "stream",
     "text": [
      " 50%|\u001b[34m█████     \u001b[0m| 101/200 [02:12<02:51,  1.73s/it]"
     ]
    },
    {
     "name": "stdout",
     "output_type": "stream",
     "text": [
      "Epoch: 100 | Cost: 38870.653 | Accuracy: 82.018\n"
     ]
    },
    {
     "name": "stderr",
     "output_type": "stream",
     "text": [
      " 56%|\u001b[34m█████▌    \u001b[0m| 111/200 [02:25<01:54,  1.28s/it]"
     ]
    },
    {
     "name": "stdout",
     "output_type": "stream",
     "text": [
      "Epoch: 110 | Cost: 35757.852 | Accuracy: 83.222\n"
     ]
    },
    {
     "name": "stderr",
     "output_type": "stream",
     "text": [
      " 60%|\u001b[34m██████    \u001b[0m| 121/200 [02:38<01:38,  1.25s/it]"
     ]
    },
    {
     "name": "stdout",
     "output_type": "stream",
     "text": [
      "Epoch: 120 | Cost: 33334.466 | Accuracy: 84.337\n"
     ]
    },
    {
     "name": "stderr",
     "output_type": "stream",
     "text": [
      " 66%|\u001b[34m██████▌   \u001b[0m| 131/200 [02:50<01:26,  1.25s/it]"
     ]
    },
    {
     "name": "stdout",
     "output_type": "stream",
     "text": [
      "Epoch: 130 | Cost: 31388.424 | Accuracy: 85.223\n"
     ]
    },
    {
     "name": "stderr",
     "output_type": "stream",
     "text": [
      " 70%|\u001b[34m███████   \u001b[0m| 141/200 [03:03<01:14,  1.26s/it]"
     ]
    },
    {
     "name": "stdout",
     "output_type": "stream",
     "text": [
      "Epoch: 140 | Cost: 29786.601 | Accuracy: 85.925\n"
     ]
    },
    {
     "name": "stderr",
     "output_type": "stream",
     "text": [
      " 76%|\u001b[34m███████▌  \u001b[0m| 151/200 [03:16<01:01,  1.26s/it]"
     ]
    },
    {
     "name": "stdout",
     "output_type": "stream",
     "text": [
      "Epoch: 150 | Cost: 28443.348 | Accuracy: 86.587\n"
     ]
    },
    {
     "name": "stderr",
     "output_type": "stream",
     "text": [
      " 80%|\u001b[34m████████  \u001b[0m| 161/200 [03:28<00:48,  1.25s/it]"
     ]
    },
    {
     "name": "stdout",
     "output_type": "stream",
     "text": [
      "Epoch: 160 | Cost: 27301.659 | Accuracy: 87.080\n"
     ]
    },
    {
     "name": "stderr",
     "output_type": "stream",
     "text": [
      " 86%|\u001b[34m████████▌ \u001b[0m| 171/200 [03:41<00:36,  1.26s/it]"
     ]
    },
    {
     "name": "stdout",
     "output_type": "stream",
     "text": [
      "Epoch: 170 | Cost: 26328.781 | Accuracy: 87.465\n"
     ]
    },
    {
     "name": "stderr",
     "output_type": "stream",
     "text": [
      " 90%|\u001b[34m█████████ \u001b[0m| 181/200 [03:53<00:23,  1.25s/it]"
     ]
    },
    {
     "name": "stdout",
     "output_type": "stream",
     "text": [
      "Epoch: 180 | Cost: 25653.037 | Accuracy: 87.608\n"
     ]
    },
    {
     "name": "stderr",
     "output_type": "stream",
     "text": [
      " 96%|\u001b[34m█████████▌\u001b[0m| 191/200 [04:07<00:11,  1.31s/it]"
     ]
    },
    {
     "name": "stdout",
     "output_type": "stream",
     "text": [
      "Epoch: 190 | Cost: 27710.532 | Accuracy: 84.880\n"
     ]
    },
    {
     "name": "stderr",
     "output_type": "stream",
     "text": [
      "100%|\u001b[34m██████████\u001b[0m| 200/200 [04:18<00:00,  1.29s/it]"
     ]
    },
    {
     "name": "stdout",
     "output_type": "stream",
     "text": [
      "Training terminated\n"
     ]
    },
    {
     "name": "stderr",
     "output_type": "stream",
     "text": [
      "\n"
     ]
    }
   ],
   "source": [
    "nn_leaky.fit(X_train, y_train, lr=lr_leaky, epochs=epochs_leaky)"
   ]
  },
  {
   "cell_type": "code",
   "execution_count": 81,
   "id": "a7ed568e",
   "metadata": {},
   "outputs": [
    {
     "data": {
      "image/png": "[encoded data removed]",
      "text/plain": [
       "<Figure size 576x288 with 1 Axes>"
      ]
     },
     "metadata": {
      "image/png": {
       "height": 291,
       "width": 519
      },
      "needs_background": "light"
     },
     "output_type": "display_data"
    }
   ],
   "source": [
    "nn_leaky.plot_cost(lr=lr_leaky)"
   ]
  },
  {
   "cell_type": "code",
   "execution_count": 82,
   "id": "af8da2f4",
   "metadata": {
    "scrolled": true
   },
   "outputs": [
    {
     "data": {
      "image/png": "[encoded data removed]",
      "text/plain": [
       "<Figure size 432x288 with 1 Axes>"
      ]
     },
     "metadata": {
      "image/png": {
       "height": 263,
       "width": 420
      },
      "needs_background": "light"
     },
     "output_type": "display_data"
    }
   ],
   "source": [
    "nn_leaky.plot_accuracies(lr_leaky)"
   ]
  },
  {
   "cell_type": "code",
   "execution_count": 320,
   "id": "03bb02fd",
   "metadata": {},
   "outputs": [],
   "source": [
    "nn_leaky.pickle_model(\"leaky\")"
   ]
  },
  {
   "cell_type": "code",
   "execution_count": 321,
   "id": "47fac8ee",
   "metadata": {},
   "outputs": [],
   "source": [
    "with open(\"fitted_model_leaky.pickle\", \"rb\") as f:\n",
    "    nn_leaky = pickle.load(f)"
   ]
  },
  {
   "cell_type": "markdown",
   "id": "152d4962",
   "metadata": {},
   "source": [
    "### Training with `tanh`"
   ]
  },
  {
   "cell_type": "code",
   "execution_count": 322,
   "id": "20d6b7bc",
   "metadata": {},
   "outputs": [],
   "source": [
    "PARAMS_tanh = [X_train, y_train, X_test, y_test, \"relu\", 10, [64, 10]]"
   ]
  },
  {
   "cell_type": "code",
   "execution_count": 323,
   "id": "555b6bcd",
   "metadata": {},
   "outputs": [],
   "source": [
    "nn_tanh = NN(*PARAMS_tanh)"
   ]
  },
  {
   "cell_type": "code",
   "execution_count": 324,
   "id": "01df1b08",
   "metadata": {
    "scrolled": true
   },
   "outputs": [
    {
     "name": "stderr",
     "output_type": "stream",
     "text": [
      "\r\n",
      "  0%|\u001b[34m          \u001b[0m| 0/100 [00:00<?, ?it/s]"
     ]
    },
    {
     "name": "stdout",
     "output_type": "stream",
     "text": [
      "Initializing parameters for layer: 1.\n",
      "Initializing parameters for layer: 2.\n",
      "Initializing parameters for layer: 3.\n"
     ]
    },
    {
     "name": "stderr",
     "output_type": "stream",
     "text": [
      "\r\n",
      "  1%|\u001b[34m          \u001b[0m| 1/100 [00:00<00:56,  1.75it/s]"
     ]
    },
    {
     "name": "stdout",
     "output_type": "stream",
     "text": [
      "Epoch:   0 | Cost: 23043.854 | Accuracy: 11.450\n"
     ]
    },
    {
     "name": "stderr",
     "output_type": "stream",
     "text": [
      " 21%|\u001b[34m██        \u001b[0m| 21/100 [00:11<00:45,  1.75it/s]"
     ]
    },
    {
     "name": "stdout",
     "output_type": "stream",
     "text": [
      "Epoch:  20 | Cost: 22831.969 | Accuracy: 17.270\n"
     ]
    },
    {
     "name": "stderr",
     "output_type": "stream",
     "text": [
      " 41%|\u001b[34m████      \u001b[0m| 41/100 [00:21<00:32,  1.80it/s]"
     ]
    },
    {
     "name": "stdout",
     "output_type": "stream",
     "text": [
      "Epoch:  40 | Cost: 22245.258 | Accuracy: 15.060\n"
     ]
    },
    {
     "name": "stderr",
     "output_type": "stream",
     "text": [
      " 61%|\u001b[34m██████    \u001b[0m| 61/100 [00:33<00:21,  1.81it/s]"
     ]
    },
    {
     "name": "stdout",
     "output_type": "stream",
     "text": [
      "Epoch:  60 | Cost: 20813.700 | Accuracy: 23.370\n"
     ]
    },
    {
     "name": "stderr",
     "output_type": "stream",
     "text": [
      " 81%|\u001b[34m████████  \u001b[0m| 81/100 [00:43<00:10,  1.82it/s]"
     ]
    },
    {
     "name": "stdout",
     "output_type": "stream",
     "text": [
      "Epoch:  80 | Cost: 17567.665 | Accuracy: 42.770\n"
     ]
    },
    {
     "name": "stderr",
     "output_type": "stream",
     "text": [
      "100%|\u001b[34m██████████\u001b[0m| 100/100 [00:55<00:00,  1.80it/s]"
     ]
    },
    {
     "name": "stdout",
     "output_type": "stream",
     "text": [
      "Training terminated\n"
     ]
    },
    {
     "name": "stderr",
     "output_type": "stream",
     "text": [
      "\n"
     ]
    }
   ],
   "source": [
    "nn_tanh.fit(X_train, y_train, lr=0.003, epochs=100)"
   ]
  },
  {
   "cell_type": "code",
   "execution_count": 370,
   "id": "0425ef7e",
   "metadata": {},
   "outputs": [
    {
     "data": {
      "image/png": "[encoded data removed]",
      "text/plain": [
       "<Figure size 576x288 with 1 Axes>"
      ]
     },
     "metadata": {
      "image/png": {
       "height": 291,
       "width": 513
      },
      "needs_background": "light"
     },
     "output_type": "display_data"
    }
   ],
   "source": [
    "nn_tanh.plot_cost(lr=0.003)"
   ]
  },
  {
   "cell_type": "code",
   "execution_count": 371,
   "id": "80b27d76",
   "metadata": {
    "scrolled": true
   },
   "outputs": [
    {
     "data": {
      "image/png": "[encoded data removed]",
      "text/plain": [
       "<Figure size 432x288 with 1 Axes>"
      ]
     },
     "metadata": {
      "image/png": {
       "height": 263,
       "width": 428
      },
      "needs_background": "light"
     },
     "output_type": "display_data"
    }
   ],
   "source": [
    "nn_tanh.plot_accuracies(lr=0.003)"
   ]
  },
  {
   "cell_type": "code",
   "execution_count": 372,
   "id": "be5096e3",
   "metadata": {},
   "outputs": [],
   "source": [
    "nn_tanh.pickle_model(\"tanh\")"
   ]
  },
  {
   "cell_type": "code",
   "execution_count": 373,
   "id": "f85a0abb",
   "metadata": {},
   "outputs": [],
   "source": [
    "with open(\"fitted_model_tanh.pickle\", \"rb\") as f:\n",
    "    nn_tanh = pickle.load(f)"
   ]
  },
  {
   "cell_type": "markdown",
   "id": "82f4d00c",
   "metadata": {},
   "source": [
    "## Mini batches"
   ]
  },
  {
   "cell_type": "code",
   "execution_count": 333,
   "id": "1200aade",
   "metadata": {},
   "outputs": [],
   "source": [
    "# Not yet implemented\n",
    "\n",
    "def iterate_mini_batches(X, y, batch_size, shuffle=False):    \n",
    "    no_of_samples = X.shape[1]\n",
    "    if shuffle:\n",
    "        ind_list = np.array([i for i in range(no_of_samples)])\n",
    "        np.random.shuffle(ind_list)\n",
    "        X  = X[:, ind_list]\n",
    "        y = y[:, ind_list]\n",
    "    for start_idx in range(0, no_of_samples, batch_size):\n",
    "        if start_idx + batch_size <= no_of_samples:\n",
    "            end_idx = start_idx+batch_size -1\n",
    "        else:\n",
    "            end_idx = (no_of_samples) % batch_size + start_idx + 1\n",
    "        print(start_idx, end_idx)\n",
    "        yield X[:, start_idx:end_idx], y[:, start_idx:end_idx]"
   ]
  },
  {
   "cell_type": "markdown",
   "id": "14a4056d",
   "metadata": {},
   "source": [
    "## Evaluating models"
   ]
  },
  {
   "cell_type": "code",
   "execution_count": 33,
   "id": "17b91711",
   "metadata": {},
   "outputs": [],
   "source": [
    "from tabulate import tabulate\n",
    "def print_accuracies(models, X_train, y_train, X_test, y_test):\n",
    "    data = [[model.activation, model.architecture[1:-1], model.accuracy(X_train, y_train), model.accuracy(X_test, y_test)] for model in models]\n",
    "    print(tabulate(data, headers=[\"Activation\", \"Architecture\",\"Train\", \"Test\"]))"
   ]
  },
  {
   "cell_type": "code",
   "execution_count": 34,
   "id": "6cbfa8b3",
   "metadata": {},
   "outputs": [
    {
     "ename": "NameError",
     "evalue": "name 'nn_sigmoid' is not defined",
     "output_type": "error",
     "traceback": [
      "\u001b[0;31m---------------------------------------------------------------------------\u001b[0m",
      "\u001b[0;31mNameError\u001b[0m                                 Traceback (most recent call last)",
      "\u001b[0;32m<ipython-input-34-f9d9e0e598f8>\u001b[0m in \u001b[0;36m<module>\u001b[0;34m\u001b[0m\n\u001b[0;32m----> 1\u001b[0;31m \u001b[0mprint_accuracies\u001b[0m\u001b[0;34m(\u001b[0m\u001b[0;34m[\u001b[0m\u001b[0mnn_relu\u001b[0m\u001b[0;34m,\u001b[0m \u001b[0mnn_sigmoid\u001b[0m\u001b[0;34m,\u001b[0m \u001b[0mnn_leaky\u001b[0m\u001b[0;34m]\u001b[0m\u001b[0;34m,\u001b[0m \u001b[0mX_train\u001b[0m\u001b[0;34m,\u001b[0m \u001b[0my_train\u001b[0m\u001b[0;34m,\u001b[0m \u001b[0mX_test\u001b[0m\u001b[0;34m,\u001b[0m \u001b[0my_test\u001b[0m\u001b[0;34m)\u001b[0m\u001b[0;34m\u001b[0m\u001b[0;34m\u001b[0m\u001b[0m\n\u001b[0m",
      "\u001b[0;31mNameError\u001b[0m: name 'nn_sigmoid' is not defined"
     ]
    }
   ],
   "source": [
    "print_accuracies([nn_relu, nn_sigmoid, nn_leaky], X_train, y_train, X_test, y_test)"
   ]
  },
  {
   "cell_type": "code",
   "execution_count": 137,
   "id": "7ba56f16",
   "metadata": {
    "scrolled": true
   },
   "outputs": [
    {
     "data": {
      "image/png": "[encoded data removed]",
      "text/plain": [
       "<Figure size 432x288 with 1 Axes>"
      ]
     },
     "metadata": {
      "image/png": {
       "height": 247,
       "width": 231
      },
      "needs_background": "light"
     },
     "output_type": "display_data"
    }
   ],
   "source": [
    "# Results for nn_relu\n",
    "example_index = 2132\n",
    "plt.imshow(X_test[:, example_index].reshape(28,28), cmap=\"Greys\")\n",
    "prediction = nn_relu.predict(X_test[:, example_index].reshape((X_test.shape[0], 1)))\n",
    "plt.title(\"Prediction: \" + str(prediction))\n",
    "plt.axis('off')\n",
    "plt.show()"
   ]
  },
  {
   "cell_type": "code",
   "execution_count": 138,
   "id": "946c8c6c",
   "metadata": {},
   "outputs": [
    {
     "data": {
      "text/plain": [
       "(784,)"
      ]
     },
     "execution_count": 138,
     "metadata": {},
     "output_type": "execute_result"
    }
   ],
   "source": [
    "X_test[:, example_index].shape"
   ]
  },
  {
   "cell_type": "code",
   "execution_count": 139,
   "id": "f3d445a2",
   "metadata": {
    "scrolled": true
   },
   "outputs": [],
   "source": [
    "def plot_predictions(model, X_test, labels, rows, cols):\n",
    "    indexes = np.random.choice(range(X_test.shape[1]), rows * cols)\n",
    "    fig, ax = plt.subplots(rows, cols, figsize=(5, 4))\n",
    "    n = 0\n",
    "    for i in range(rows):\n",
    "        for j in range(cols):\n",
    "            ix = indexes[n]\n",
    "            example = X_test[:, ix].reshape(28,28)\n",
    "            prediction = model.predict(X_test[:, ix].reshape((X_test[:, ix].shape[0], 1)))        \n",
    "            subplot = ax[i, j]\n",
    "            subplot.set_title(f\"Prediction: {prediction}\\nLabel: {np.argmax(labels[:, ix])}\")\n",
    "            subplot.imshow(example, cmap=\"Greys\")\n",
    "            subplot.axis('off')\n",
    "            n += 1\n",
    "    plt.tight_layout()\n",
    "    plt.show()"
   ]
  },
  {
   "cell_type": "code",
   "execution_count": 140,
   "id": "db2dd58e",
   "metadata": {
    "scrolled": true
   },
   "outputs": [
    {
     "data": {
      "image/png": "[encoded data removed]",
      "text/plain": [
       "<Figure size 360x288 with 9 Axes>"
      ]
     },
     "metadata": {
      "image/png": {
       "height": 279,
       "width": 310
      },
      "needs_background": "light"
     },
     "output_type": "display_data"
    }
   ],
   "source": [
    "plot_predictions(nn_relu, X_test, y_test, 3, 3)"
   ]
  },
  {
   "cell_type": "code",
   "execution_count": 141,
   "id": "08d2c898",
   "metadata": {
    "scrolled": true
   },
   "outputs": [
    {
     "data": {
      "image/png": "[encoded data removed]",
      "text/plain": [
       "<Figure size 432x288 with 1 Axes>"
      ]
     },
     "metadata": {
      "image/png": {
       "height": 277,
       "width": 395
      },
      "needs_background": "light"
     },
     "output_type": "display_data"
    }
   ],
   "source": [
    "nn_relu.plot_counts()"
   ]
  },
  {
   "cell_type": "markdown",
   "id": "15766b97",
   "metadata": {},
   "source": [
    "## PyTorch simple implementation"
   ]
  },
  {
   "cell_type": "code",
   "execution_count": 61,
   "id": "0ac5b2da",
   "metadata": {},
   "outputs": [],
   "source": [
    "import torch\n",
    "from torch import nn\n",
    "from torch.utils.data import DataLoader\n",
    "from torchvision import datasets\n",
    "from torchvision.transforms import ToTensor, Lambda, Compose"
   ]
  },
  {
   "cell_type": "code",
   "execution_count": 62,
   "id": "3cc79055",
   "metadata": {},
   "outputs": [],
   "source": [
    "training_data = datasets.MNIST(\n",
    "    root=\"data\",\n",
    "    train=True,\n",
    "    download=True,\n",
    "    transform=ToTensor(),\n",
    "    )"
   ]
  },
  {
   "cell_type": "code",
   "execution_count": 63,
   "id": "03620cf0",
   "metadata": {},
   "outputs": [],
   "source": [
    "test_data = datasets.MNIST(\n",
    "    root=\"data\",\n",
    "    train=False,\n",
    "    download=True,\n",
    "    transform=ToTensor(),\n",
    "    )"
   ]
  },
  {
   "cell_type": "code",
   "execution_count": 64,
   "id": "7c54ef5a",
   "metadata": {},
   "outputs": [
    {
     "name": "stdout",
     "output_type": "stream",
     "text": [
      "Shape of X [N, C, H, W]:  torch.Size([64, 1, 28, 28])\n",
      "Shape of y:  torch.Size([64]) torch.int64\n"
     ]
    }
   ],
   "source": [
    "batch_size = 64\n",
    "\n",
    "# Create data loaders.\n",
    "train_dataloader = DataLoader(training_data, batch_size=batch_size)\n",
    "test_dataloader = DataLoader(test_data, batch_size=batch_size)\n",
    "\n",
    "for X, y in test_dataloader:\n",
    "    print(\"Shape of X [N, C, H, W]: \", X.shape)\n",
    "    print(\"Shape of y: \", y.shape, y.dtype)\n",
    "    break"
   ]
  },
  {
   "cell_type": "code",
   "execution_count": 65,
   "id": "6d7672e0",
   "metadata": {},
   "outputs": [
    {
     "name": "stdout",
     "output_type": "stream",
     "text": [
      "Using cpu device\n",
      "NeuralNetwork(\n",
      "  (flatten): Flatten(start_dim=1, end_dim=-1)\n",
      "  (linear_relu_stack): Sequential(\n",
      "    (0): Linear(in_features=784, out_features=512, bias=True)\n",
      "    (1): ReLU()\n",
      "    (2): Linear(in_features=512, out_features=512, bias=True)\n",
      "    (3): ReLU()\n",
      "    (4): Linear(in_features=512, out_features=10, bias=True)\n",
      "  )\n",
      ")\n"
     ]
    }
   ],
   "source": [
    "# Get cpu or gpu device for training.\n",
    "device = \"cuda\" if torch.cuda.is_available() else \"cpu\"\n",
    "print(\"Using {} device\".format(device))\n",
    "\n",
    "# Define model\n",
    "class NeuralNetwork(nn.Module):\n",
    "    def __init__(self):\n",
    "        super(NeuralNetwork, self).__init__()\n",
    "        self.flatten = nn.Flatten()\n",
    "        self.linear_relu_stack = nn.Sequential(\n",
    "            nn.Linear(28*28, 512),\n",
    "            nn.ReLU(),\n",
    "            nn.Linear(512, 512),\n",
    "            nn.ReLU(),\n",
    "            nn.Linear(512, 10)\n",
    "        )\n",
    "\n",
    "    def forward(self, x):\n",
    "        x = self.flatten(x)\n",
    "        logits = self.linear_relu_stack(x)\n",
    "        return logits\n",
    "\n",
    "model = NeuralNetwork().to(device)\n",
    "print(model)"
   ]
  },
  {
   "cell_type": "code",
   "execution_count": 66,
   "id": "eed8f725",
   "metadata": {},
   "outputs": [],
   "source": [
    "loss_fn = nn.CrossEntropyLoss()\n",
    "optimizer = torch.optim.SGD(model.parameters(), lr=1e-3)"
   ]
  },
  {
   "cell_type": "code",
   "execution_count": 67,
   "id": "f425fe36",
   "metadata": {},
   "outputs": [],
   "source": [
    "def train(dataloader, model, loss_fn, optimizer):\n",
    "    size = len(dataloader.dataset)\n",
    "    model.train()\n",
    "    for batch, (X, y) in enumerate(dataloader):\n",
    "        X, y = X.to(device), y.to(device)\n",
    "\n",
    "        # Compute prediction error\n",
    "        pred = model(X)\n",
    "        loss = loss_fn(pred, y)\n",
    "\n",
    "        # Backpropagation\n",
    "        optimizer.zero_grad()\n",
    "        loss.backward()\n",
    "        optimizer.step()\n",
    "\n",
    "        if batch % 100 == 0:\n",
    "            loss, current = loss.item(), batch * len(X)\n",
    "            print(f\"loss: {loss:>7f}  [{current:>5d}/{size:>5d}]\")"
   ]
  },
  {
   "cell_type": "code",
   "execution_count": 68,
   "id": "50e8af38",
   "metadata": {},
   "outputs": [],
   "source": [
    "def test(dataloader, model, loss_fn):\n",
    "    size = len(dataloader.dataset)\n",
    "    num_batches = len(dataloader)\n",
    "    model.eval()\n",
    "    test_loss, correct = 0, 0\n",
    "    with torch.no_grad():\n",
    "        for X, y in dataloader:\n",
    "            X, y = X.to(device), y.to(device)\n",
    "            pred = model(X)\n",
    "            test_loss += loss_fn(pred, y).item()\n",
    "            correct += (pred.argmax(1) == y).type(torch.float).sum().item()\n",
    "    test_loss /= num_batches\n",
    "    correct /= size\n",
    "    print(f\"Test Error: \\n Accuracy: {(100*correct):>0.1f}%, Avg loss: {test_loss:>8f} \\n\")"
   ]
  },
  {
   "cell_type": "code",
   "execution_count": 69,
   "id": "adca96ed",
   "metadata": {
    "scrolled": true
   },
   "outputs": [
    {
     "name": "stdout",
     "output_type": "stream",
     "text": [
      "Epoch 1\n",
      "-------------------------------\n",
      "loss: 2.300775  [    0/60000]\n",
      "loss: 2.301840  [ 6400/60000]\n",
      "loss: 2.282770  [12800/60000]\n",
      "loss: 2.284122  [19200/60000]\n",
      "loss: 2.284169  [25600/60000]\n",
      "loss: 2.283376  [32000/60000]\n",
      "loss: 2.264910  [38400/60000]\n",
      "loss: 2.276175  [44800/60000]\n",
      "loss: 2.258247  [51200/60000]\n",
      "loss: 2.246940  [57600/60000]\n",
      "Test Error: \n",
      " Accuracy: 43.2%, Avg loss: 2.255026 \n",
      "\n",
      "Epoch 2\n",
      "-------------------------------\n",
      "loss: 2.252551  [    0/60000]\n",
      "loss: 2.250427  [ 6400/60000]\n",
      "loss: 2.243942  [12800/60000]\n",
      "loss: 2.221015  [19200/60000]\n",
      "loss: 2.234735  [25600/60000]\n",
      "loss: 2.232835  [32000/60000]\n",
      "loss: 2.203316  [38400/60000]\n",
      "loss: 2.231014  [44800/60000]\n",
      "loss: 2.195654  [51200/60000]\n",
      "loss: 2.178700  [57600/60000]\n",
      "Test Error: \n",
      " Accuracy: 58.6%, Avg loss: 2.189478 \n",
      "\n",
      "Epoch 3\n",
      "-------------------------------\n",
      "loss: 2.186056  [    0/60000]\n",
      "loss: 2.177417  [ 6400/60000]\n",
      "loss: 2.184645  [12800/60000]\n",
      "loss: 2.127757  [19200/60000]\n",
      "loss: 2.158648  [25600/60000]\n",
      "loss: 2.153749  [32000/60000]\n",
      "loss: 2.105645  [38400/60000]\n",
      "loss: 2.153380  [44800/60000]\n",
      "loss: 2.093971  [51200/60000]\n",
      "loss: 2.066463  [57600/60000]\n",
      "Test Error: \n",
      " Accuracy: 62.5%, Avg loss: 2.079785 \n",
      "\n",
      "Epoch 4\n",
      "-------------------------------\n",
      "loss: 2.076205  [    0/60000]\n",
      "loss: 2.053771  [ 6400/60000]\n",
      "loss: 2.080588  [12800/60000]\n",
      "loss: 1.974402  [19200/60000]\n",
      "loss: 2.026093  [25600/60000]\n",
      "loss: 2.013709  [32000/60000]\n",
      "loss: 1.939237  [38400/60000]\n",
      "loss: 2.015360  [44800/60000]\n",
      "loss: 1.920931  [51200/60000]\n",
      "loss: 1.878904  [57600/60000]\n",
      "Test Error: \n",
      " Accuracy: 67.8%, Avg loss: 1.891260 \n",
      "\n",
      "Epoch 5\n",
      "-------------------------------\n",
      "loss: 1.891540  [    0/60000]\n",
      "loss: 1.842802  [ 6400/60000]\n",
      "loss: 1.895721  [12800/60000]\n",
      "loss: 1.732353  [19200/60000]\n",
      "loss: 1.796990  [25600/60000]\n",
      "loss: 1.773157  [32000/60000]\n",
      "loss: 1.676817  [38400/60000]\n",
      "loss: 1.790881  [44800/60000]\n",
      "loss: 1.653640  [51200/60000]\n",
      "loss: 1.599851  [57600/60000]\n",
      "Test Error: \n",
      " Accuracy: 72.2%, Avg loss: 1.604094 \n",
      "\n",
      "Epoch 6\n",
      "-------------------------------\n",
      "loss: 1.617017  [    0/60000]\n",
      "loss: 1.535026  [ 6400/60000]\n",
      "loss: 1.610565  [12800/60000]\n",
      "loss: 1.420208  [19200/60000]\n",
      "loss: 1.473720  [25600/60000]\n",
      "loss: 1.446976  [32000/60000]\n",
      "loss: 1.347097  [38400/60000]\n",
      "loss: 1.498165  [44800/60000]\n",
      "loss: 1.344015  [51200/60000]\n",
      "loss: 1.287269  [57600/60000]\n",
      "Test Error: \n",
      " Accuracy: 76.3%, Avg loss: 1.281475 \n",
      "\n",
      "Epoch 7\n",
      "-------------------------------\n",
      "loss: 1.314274  [    0/60000]\n",
      "loss: 1.211389  [ 6400/60000]\n",
      "loss: 1.291645  [12800/60000]\n",
      "loss: 1.133055  [19200/60000]\n",
      "loss: 1.163226  [25600/60000]\n",
      "loss: 1.139735  [32000/60000]\n",
      "loss: 1.050502  [38400/60000]\n",
      "loss: 1.220205  [44800/60000]\n",
      "loss: 1.088493  [51200/60000]\n",
      "loss: 1.035495  [57600/60000]\n",
      "Test Error: \n",
      " Accuracy: 79.5%, Avg loss: 1.023502 \n",
      "\n",
      "Epoch 8\n",
      "-------------------------------\n",
      "loss: 1.074040  [    0/60000]\n",
      "loss: 0.966777  [ 6400/60000]\n",
      "loss: 1.031672  [12800/60000]\n",
      "loss: 0.927516  [19200/60000]\n",
      "loss: 0.941415  [25600/60000]\n",
      "loss: 0.917859  [32000/60000]\n",
      "loss: 0.841664  [38400/60000]\n",
      "loss: 1.011760  [44800/60000]\n",
      "loss: 0.913980  [51200/60000]\n",
      "loss: 0.865425  [57600/60000]\n",
      "Test Error: \n",
      " Accuracy: 81.3%, Avg loss: 0.848545 \n",
      "\n",
      "Epoch 9\n",
      "-------------------------------\n",
      "loss: 0.909316  [    0/60000]\n",
      "loss: 0.804406  [ 6400/60000]\n",
      "loss: 0.850043  [12800/60000]\n",
      "loss: 0.791530  [19200/60000]\n",
      "loss: 0.794096  [25600/60000]\n",
      "loss: 0.769899  [32000/60000]\n",
      "loss: 0.701501  [38400/60000]\n",
      "loss: 0.867900  [44800/60000]\n",
      "loss: 0.796538  [51200/60000]\n",
      "loss: 0.753488  [57600/60000]\n",
      "Test Error: \n",
      " Accuracy: 82.8%, Avg loss: 0.731063 \n",
      "\n",
      "Epoch 10\n",
      "-------------------------------\n",
      "loss: 0.795697  [    0/60000]\n",
      "loss: 0.694111  [ 6400/60000]\n",
      "loss: 0.725075  [12800/60000]\n",
      "loss: 0.700761  [19200/60000]\n",
      "loss: 0.691807  [25600/60000]\n",
      "loss: 0.669715  [32000/60000]\n",
      "loss: 0.602781  [38400/60000]\n",
      "loss: 0.768667  [44800/60000]\n",
      "loss: 0.713293  [51200/60000]\n",
      "loss: 0.677674  [57600/60000]\n",
      "Test Error: \n",
      " Accuracy: 83.9%, Avg loss: 0.648860 \n",
      "\n",
      "Done!\n"
     ]
    }
   ],
   "source": [
    "epochs = 10\n",
    "for t in range(epochs):\n",
    "    print(f\"Epoch {t+1}\\n-------------------------------\")\n",
    "    train(train_dataloader, model, loss_fn, optimizer)\n",
    "    test(test_dataloader, model, loss_fn)\n",
    "print(\"Done!\")"
   ]
  },
  {
   "cell_type": "code",
   "execution_count": 142,
   "id": "c5a708a2",
   "metadata": {},
   "outputs": [],
   "source": [
    "import cv2"
   ]
  },
  {
   "cell_type": "code",
   "execution_count": 143,
   "id": "732be9da",
   "metadata": {},
   "outputs": [],
   "source": [
    "def open_as_mnist(image_path):\n",
    "    \"\"\"\n",
    "    Assume this is a color or grey scale image of a digit which has not so far been preprocessed\n",
    "\n",
    "    Black and White\n",
    "    Resize to 20 x 20 (digit in center ideally)\n",
    "    Sharpen\n",
    "    Add white border to make it 28 x 28\n",
    "    Convert to white on black\n",
    "    \"\"\"\n",
    "    # open as greyscale\n",
    "    image = cv2.imread(image_path, 0)\n",
    "\n",
    "    # crop to contour with largest area\n",
    "    cropped = do_cropping(image)\n",
    "\n",
    "    # resizing the image to 20 x 20\n",
    "    resized20 = cv2.resize(cropped, (20, 20), interpolation=cv2.INTER_CUBIC)\n",
    "\n",
    "    cv2.imwrite('1_resized.jpg', resized20)\n",
    "\n",
    "    # gaussian filtering\n",
    "    blurred = cv2.GaussianBlur(resized20, (3, 3), 0)\n",
    "\n",
    "    # white digit on black background\n",
    "    ret, thresh = cv2.threshold(blurred, 127, 255, cv2.THRESH_BINARY_INV)\n",
    "\n",
    "    padded = to20by20(thresh)\n",
    "\n",
    "\n",
    "    resized28 = padded_image(padded, 28)\n",
    "\n",
    "    # normalize the image values to fit in the range [0,1]\n",
    "    norm_image = np.asarray(resized28, dtype=np.float32) / 255.\n",
    "\n",
    "    # cv2.imshow('image', norm_image)\n",
    "    # cv2.waitKey(0)\n",
    "\n",
    "    # # Flatten the image to a 1-D vector and return\n",
    "    flat = norm_image.reshape(1, 28 * 28)\n",
    "    # return flat\n",
    "\n",
    "    # normalize pixels to 0 and 1. 0 is pure white, 1 is pure black.\n",
    "    tva = [(255 - x) * 1.0 / 255.0 for x in flat]\n",
    "    return tva\n",
    "\n",
    "\n",
    "\n",
    "def padded_image(image, tosize):\n",
    "    \"\"\"\n",
    "    This method adds padding to the image and makes it to a tosize x tosize array,\n",
    "    without losing the aspect ratio.\n",
    "    Assumes desired image is square\n",
    "\n",
    "    :param image: the input image as numpy array\n",
    "    :param tosize: the final dimensions\n",
    "    \"\"\"\n",
    "\n",
    "    # image dimensions\n",
    "    image_height, image_width = image.shape\n",
    "\n",
    "\n",
    "    # if not already square then pad to square\n",
    "    if image_height != image_width:\n",
    "\n",
    "        # Add padding\n",
    "        # The aim is to make an image of different width and height to a sqaure image\n",
    "        # For that first the biggest attribute among width and height are determined.\n",
    "        max_index = np.argmax([image_height, image_width])\n",
    "\n",
    "\n",
    "        # if height is the biggest one, then add padding to width until width becomes\n",
    "        # equal to height\n",
    "        if max_index == 0:\n",
    "            #order of padding is: top, bottom, left, right\n",
    "            left = int((image_height - image_width) / 2)\n",
    "            right = image_height - image_width - left\n",
    "            padded_img = cv2.copyMakeBorder(image, 0, 0,\n",
    "                                            left,\n",
    "                                            right,\n",
    "                                            cv2.BORDER_CONSTANT)\n",
    "\n",
    "        # else if width is the biggest one, then add padding to height until height becomes\n",
    "        # equal to width\n",
    "        else:\n",
    "            top = int((image_width - image_height) / 2)\n",
    "            bottom = image_width - image_height - top\n",
    "            padded_img = cv2.copyMakeBorder(image, top, bottom, 0, 0,  cv2.BORDER_CONSTANT)\n",
    "    else:\n",
    "        padded_img = image\n",
    "\n",
    "\n",
    "    # now that it's a square, add any additional padding required\n",
    "    image_height, image_width = padded_img.shape\n",
    "    padding = tosize - image_height\n",
    "\n",
    "    # need to handle where padding is not divisiable by 2\n",
    "    left = top = int(padding/2)\n",
    "    right = bottom = padding - left\n",
    "    resized = cv2.copyMakeBorder(image, top, bottom, left, right, cv2.BORDER_CONSTANT)\n",
    "\n",
    "\n",
    "    return resized"
   ]
  },
  {
   "cell_type": "code",
   "execution_count": 39,
   "id": "9b706c80",
   "metadata": {},
   "outputs": [
    {
     "data": {
      "text/plain": [
       "<__main__.NN at 0x7fab50f38a30>"
      ]
     },
     "execution_count": 39,
     "metadata": {},
     "output_type": "execute_result"
    }
   ],
   "source": [
    "nn_relu"
   ]
  },
  {
   "cell_type": "markdown",
   "id": "4817d75f",
   "metadata": {},
   "source": [
    "## Using my own image"
   ]
  },
  {
   "cell_type": "code",
   "execution_count": 157,
   "id": "7aa89d9e",
   "metadata": {},
   "outputs": [],
   "source": [
    "import cv2"
   ]
  },
  {
   "cell_type": "code",
   "execution_count": 165,
   "id": "41256a46",
   "metadata": {},
   "outputs": [],
   "source": [
    "img = cv2.imread(\"for_mnist2.jpeg\", cv2.IMREAD_GRAYSCALE) # flag 0 imports to grayscale"
   ]
  },
  {
   "cell_type": "code",
   "execution_count": 172,
   "id": "529d639a",
   "metadata": {},
   "outputs": [
    {
     "data": {
      "text/plain": [
       "<matplotlib.image.AxesImage at 0x7fab51137b50>"
      ]
     },
     "execution_count": 172,
     "metadata": {},
     "output_type": "execute_result"
    },
    {
     "data": {
      "image/png": "[encoded data removed]",
      "text/plain": [
       "<Figure size 432x288 with 1 Axes>"
      ]
     },
     "metadata": {
      "image/png": {
       "height": 248,
       "width": 251
      },
      "needs_background": "light"
     },
     "output_type": "display_data"
    }
   ],
   "source": [
    "plt.imshow(img, cmap=\"Greys\")"
   ]
  },
  {
   "cell_type": "code",
   "execution_count": 173,
   "id": "1ca3ab2f",
   "metadata": {},
   "outputs": [],
   "source": [
    "reshaped = np.asarray(img).reshape((X_test.shape[0], 1)) * 1.0"
   ]
  },
  {
   "cell_type": "code",
   "execution_count": 174,
   "id": "e09dccfb",
   "metadata": {
    "scrolled": true
   },
   "outputs": [
    {
     "data": {
      "text/plain": [
       "array([[ 45,  43,  46,  52,  53,  51,  57,  66,  58,  45,  45,  66,  46,\n",
       "         55,  53,  50,  51,  55,  48,  59,  59,  47,  53,  49,  53,  54,\n",
       "         55,  57],\n",
       "       [ 48,  46,  46,  48,  49,  50,  54,  58,  57,  64,  52,  46,  27,\n",
       "         52,  56,  53,  50,  62,  58,  62,  58,  49,  58,  54,  43,  44,\n",
       "         47,  50],\n",
       "       [ 53,  51,  48,  45,  47,  52,  52,  49,  50,  54,  49,  70,  64,\n",
       "         60,  45,  61,  51,  65,  58,  57,  55,  51,  52,  33,  61,  59,\n",
       "         56,  52],\n",
       "       [ 53,  54,  50,  45,  48,  53,  51,  44,  61,  54,  42,  92, 138,\n",
       "        160, 146, 162, 197, 140,  75,  63,  54,  38,  60,  82,  49,  49,\n",
       "         49,  49],\n",
       "       [ 47,  50,  49,  46,  47,  51,  53,  52,  38, 127, 167, 162, 132,\n",
       "        133, 126, 141, 153, 174, 185, 187, 142,  74,  47,  36,  46,  46,\n",
       "         46,  46],\n",
       "       [ 42,  43,  46,  47,  44,  47,  60,  75, 170, 154,  99,  69,  52,\n",
       "         66,  48,  40,  61,  59,  93, 178, 204, 143,  87,  54,  62,  59,\n",
       "         55,  50],\n",
       "       [ 45,  43,  47,  50,  45,  47,  75, 110, 133,  72,  26,  49,  51,\n",
       "         55,  45,  53,  44, 184, 239, 188, 160, 184, 156,  58,  50,  49,\n",
       "         48,  48],\n",
       "       [ 51,  47,  50,  55,  48,  50,  89, 138,  83,  55,  45,  69,  50,\n",
       "         52,  50,  54,  48, 116, 162, 184, 186, 169, 126,  60,  52,  50,\n",
       "         47,  43],\n",
       "       [ 60,  43,  47,  48,  54,  37, 131, 134,  47,  67,  55,  33,  64,\n",
       "         49,  53,  55,  63,  53,  73, 115, 196, 181,  70,  57,  50,  51,\n",
       "         53,  54],\n",
       "       [ 44,  48,  53,  39,  52,  56, 130, 100,  59,  43,  61,  67,  50,\n",
       "         62,  63,  55,  47,  64, 117, 159, 201, 163,  60,  49,  47,  48,\n",
       "         48,  49],\n",
       "       [ 37,  48,  54,  38,  49,  63, 135, 117,  65,  49,  43,  64,  60,\n",
       "         63,  43,  97, 153, 153, 187, 199, 196, 148,  64,  49,  43,  42,\n",
       "         42,  42],\n",
       "       [ 48,  42,  48,  47,  49,  50, 133, 169,  34, 135, 176, 173, 168,\n",
       "        169, 155, 183, 207, 187, 185, 151, 101,  65,  46,  63,  45,  45,\n",
       "         44,  43],\n",
       "       [ 55,  41,  44,  51,  50,  41, 103, 153, 170, 146, 149, 181, 188,\n",
       "        162, 190, 181, 176, 101,  51,  39,  49,  60,  45,  27,  49,  49,\n",
       "         49,  49],\n",
       "       [ 50,  47,  46,  45,  49,  48,  62,  73, 197, 199, 148,  82, 136,\n",
       "        189, 177,  71,  63,  48,  46,  46,  36,  34,  43,  51,  43,  44,\n",
       "         45,  47],\n",
       "       [ 43,  52,  50,  38,  44,  55,  44,  37,  42, 126, 187, 160, 187,\n",
       "        183,  84,  48,  37,  41,  45,  55,  52,  39,  37,  37,  39,  41,\n",
       "         44,  47],\n",
       "       [ 43,  52,  50,  38,  40,  53,  50,  61,  44,  54, 170, 189, 158,\n",
       "        159,  54,  68,  48,  51,  40,  45,  51,  40,  41,  45,  45,  48,\n",
       "         53,  57],\n",
       "       [ 46,  52,  54,  49,  43,  43,  45,  46,  35, 166, 177, 189,  40,\n",
       "        165, 187,  65,  62,  57,  44,  40,  40,  45,  51,  51,  53,  50,\n",
       "         47,  46],\n",
       "       [ 52,  39,  38,  52,  54,  47,  59,  83, 158, 161, 123,  35,  68,\n",
       "         23, 165, 174,  75,  44,  50,  50,  58,  72,  35,  61,  47,  45,\n",
       "         42,  40],\n",
       "       [ 52,  46,  50,  56,  49,  47,  79, 123, 191, 107,  43,  60,  46,\n",
       "         67,  18, 184, 171,  87,  53,  54,  20,  49,  47,  43,  46,  44,\n",
       "         41,  40],\n",
       "       [ 49,  55,  54,  46,  47,  73, 112, 141,  87,  56,  42,  36,  51,\n",
       "         52,  46,  55, 148, 172,  59,  48,  59,  48,  44,  43,  51,  49,\n",
       "         46,  45],\n",
       "       [ 50,  44,  37,  39,  61,  96, 129, 147,  57,  44,  29,  60,  44,\n",
       "         40,  58,  45,  94, 171, 112,  75,  48,  49,  69,  40,  53,  50,\n",
       "         47,  46],\n",
       "       [ 47,  40,  45,  58,  60,  64,  98, 140, 127,  68,  43,  45,  68,\n",
       "         35,  32,  72,  38, 165, 156,  47,  53,  55,  23,  67,  49,  46,\n",
       "         43,  42],\n",
       "       [ 44,  46,  58,  64,  47,  33,  57,  96, 123, 168,  62,  51,  41,\n",
       "         39,  71,  53,  64, 113, 162,  74,  56,  59,  46,  47,  48,  45,\n",
       "         42,  41],\n",
       "       [ 48,  45,  41,  41,  47,  52,  48,  40, 106, 146, 156, 168,  87,\n",
       "         74,  57,  98, 186, 168, 141,  58,  56,  35,  58,  38,  51,  48,\n",
       "         45,  44],\n",
       "       [ 46,  49,  48,  44,  43,  45,  44,  40,  45,  64, 107, 156, 178,\n",
       "        175, 177, 189, 182, 138,  82,  48,  44,  52,  56,  53,  54,  49,\n",
       "         46,  47],\n",
       "       [ 50,  52,  51,  47,  47,  49,  47,  43,  46,  43,  46,  53,  52,\n",
       "         46,  50,  60,  46,  40,  37,  43,  54,  59,  55,  48,  57,  51,\n",
       "         47,  47],\n",
       "       [ 51,  52,  51,  48,  48,  50,  47,  42,  50,  48,  47,  47,  49,\n",
       "         52,  54,  54,  34,  41,  51,  56,  55,  51,  47,  44,  60,  52,\n",
       "         47,  50],\n",
       "       [ 48,  49,  47,  44,  45,  47,  43,  36,  33,  38,  40,  41,  48,\n",
       "         55,  48,  35,  50,  53,  54,  49,  43,  43,  50,  57,  58,  49,\n",
       "         46,  54]], dtype=uint8)"
      ]
     },
     "execution_count": 174,
     "metadata": {},
     "output_type": "execute_result"
    }
   ],
   "source": [
    "img"
   ]
  },
  {
   "cell_type": "code",
   "execution_count": 175,
   "id": "3d33772f",
   "metadata": {},
   "outputs": [
    {
     "data": {
      "text/plain": [
       "array([[ 45.],\n",
       "       [ 43.],\n",
       "       [ 46.],\n",
       "       [ 52.],\n",
       "       [ 53.],\n",
       "       [ 51.],\n",
       "       [ 57.],\n",
       "       [ 66.],\n",
       "       [ 58.],\n",
       "       [ 45.],\n",
       "       [ 45.],\n",
       "       [ 66.],\n",
       "       [ 46.],\n",
       "       [ 55.],\n",
       "       [ 53.],\n",
       "       [ 50.],\n",
       "       [ 51.],\n",
       "       [ 55.],\n",
       "       [ 48.],\n",
       "       [ 59.],\n",
       "       [ 59.],\n",
       "       [ 47.],\n",
       "       [ 53.],\n",
       "       [ 49.],\n",
       "       [ 53.],\n",
       "       [ 54.],\n",
       "       [ 55.],\n",
       "       [ 57.],\n",
       "       [ 48.],\n",
       "       [ 46.],\n",
       "       [ 46.],\n",
       "       [ 48.],\n",
       "       [ 49.],\n",
       "       [ 50.],\n",
       "       [ 54.],\n",
       "       [ 58.],\n",
       "       [ 57.],\n",
       "       [ 64.],\n",
       "       [ 52.],\n",
       "       [ 46.],\n",
       "       [ 27.],\n",
       "       [ 52.],\n",
       "       [ 56.],\n",
       "       [ 53.],\n",
       "       [ 50.],\n",
       "       [ 62.],\n",
       "       [ 58.],\n",
       "       [ 62.],\n",
       "       [ 58.],\n",
       "       [ 49.],\n",
       "       [ 58.],\n",
       "       [ 54.],\n",
       "       [ 43.],\n",
       "       [ 44.],\n",
       "       [ 47.],\n",
       "       [ 50.],\n",
       "       [ 53.],\n",
       "       [ 51.],\n",
       "       [ 48.],\n",
       "       [ 45.],\n",
       "       [ 47.],\n",
       "       [ 52.],\n",
       "       [ 52.],\n",
       "       [ 49.],\n",
       "       [ 50.],\n",
       "       [ 54.],\n",
       "       [ 49.],\n",
       "       [ 70.],\n",
       "       [ 64.],\n",
       "       [ 60.],\n",
       "       [ 45.],\n",
       "       [ 61.],\n",
       "       [ 51.],\n",
       "       [ 65.],\n",
       "       [ 58.],\n",
       "       [ 57.],\n",
       "       [ 55.],\n",
       "       [ 51.],\n",
       "       [ 52.],\n",
       "       [ 33.],\n",
       "       [ 61.],\n",
       "       [ 59.],\n",
       "       [ 56.],\n",
       "       [ 52.],\n",
       "       [ 53.],\n",
       "       [ 54.],\n",
       "       [ 50.],\n",
       "       [ 45.],\n",
       "       [ 48.],\n",
       "       [ 53.],\n",
       "       [ 51.],\n",
       "       [ 44.],\n",
       "       [ 61.],\n",
       "       [ 54.],\n",
       "       [ 42.],\n",
       "       [ 92.],\n",
       "       [138.],\n",
       "       [160.],\n",
       "       [146.],\n",
       "       [162.],\n",
       "       [197.],\n",
       "       [140.],\n",
       "       [ 75.],\n",
       "       [ 63.],\n",
       "       [ 54.],\n",
       "       [ 38.],\n",
       "       [ 60.],\n",
       "       [ 82.],\n",
       "       [ 49.],\n",
       "       [ 49.],\n",
       "       [ 49.],\n",
       "       [ 49.],\n",
       "       [ 47.],\n",
       "       [ 50.],\n",
       "       [ 49.],\n",
       "       [ 46.],\n",
       "       [ 47.],\n",
       "       [ 51.],\n",
       "       [ 53.],\n",
       "       [ 52.],\n",
       "       [ 38.],\n",
       "       [127.],\n",
       "       [167.],\n",
       "       [162.],\n",
       "       [132.],\n",
       "       [133.],\n",
       "       [126.],\n",
       "       [141.],\n",
       "       [153.],\n",
       "       [174.],\n",
       "       [185.],\n",
       "       [187.],\n",
       "       [142.],\n",
       "       [ 74.],\n",
       "       [ 47.],\n",
       "       [ 36.],\n",
       "       [ 46.],\n",
       "       [ 46.],\n",
       "       [ 46.],\n",
       "       [ 46.],\n",
       "       [ 42.],\n",
       "       [ 43.],\n",
       "       [ 46.],\n",
       "       [ 47.],\n",
       "       [ 44.],\n",
       "       [ 47.],\n",
       "       [ 60.],\n",
       "       [ 75.],\n",
       "       [170.],\n",
       "       [154.],\n",
       "       [ 99.],\n",
       "       [ 69.],\n",
       "       [ 52.],\n",
       "       [ 66.],\n",
       "       [ 48.],\n",
       "       [ 40.],\n",
       "       [ 61.],\n",
       "       [ 59.],\n",
       "       [ 93.],\n",
       "       [178.],\n",
       "       [204.],\n",
       "       [143.],\n",
       "       [ 87.],\n",
       "       [ 54.],\n",
       "       [ 62.],\n",
       "       [ 59.],\n",
       "       [ 55.],\n",
       "       [ 50.],\n",
       "       [ 45.],\n",
       "       [ 43.],\n",
       "       [ 47.],\n",
       "       [ 50.],\n",
       "       [ 45.],\n",
       "       [ 47.],\n",
       "       [ 75.],\n",
       "       [110.],\n",
       "       [133.],\n",
       "       [ 72.],\n",
       "       [ 26.],\n",
       "       [ 49.],\n",
       "       [ 51.],\n",
       "       [ 55.],\n",
       "       [ 45.],\n",
       "       [ 53.],\n",
       "       [ 44.],\n",
       "       [184.],\n",
       "       [239.],\n",
       "       [188.],\n",
       "       [160.],\n",
       "       [184.],\n",
       "       [156.],\n",
       "       [ 58.],\n",
       "       [ 50.],\n",
       "       [ 49.],\n",
       "       [ 48.],\n",
       "       [ 48.],\n",
       "       [ 51.],\n",
       "       [ 47.],\n",
       "       [ 50.],\n",
       "       [ 55.],\n",
       "       [ 48.],\n",
       "       [ 50.],\n",
       "       [ 89.],\n",
       "       [138.],\n",
       "       [ 83.],\n",
       "       [ 55.],\n",
       "       [ 45.],\n",
       "       [ 69.],\n",
       "       [ 50.],\n",
       "       [ 52.],\n",
       "       [ 50.],\n",
       "       [ 54.],\n",
       "       [ 48.],\n",
       "       [116.],\n",
       "       [162.],\n",
       "       [184.],\n",
       "       [186.],\n",
       "       [169.],\n",
       "       [126.],\n",
       "       [ 60.],\n",
       "       [ 52.],\n",
       "       [ 50.],\n",
       "       [ 47.],\n",
       "       [ 43.],\n",
       "       [ 60.],\n",
       "       [ 43.],\n",
       "       [ 47.],\n",
       "       [ 48.],\n",
       "       [ 54.],\n",
       "       [ 37.],\n",
       "       [131.],\n",
       "       [134.],\n",
       "       [ 47.],\n",
       "       [ 67.],\n",
       "       [ 55.],\n",
       "       [ 33.],\n",
       "       [ 64.],\n",
       "       [ 49.],\n",
       "       [ 53.],\n",
       "       [ 55.],\n",
       "       [ 63.],\n",
       "       [ 53.],\n",
       "       [ 73.],\n",
       "       [115.],\n",
       "       [196.],\n",
       "       [181.],\n",
       "       [ 70.],\n",
       "       [ 57.],\n",
       "       [ 50.],\n",
       "       [ 51.],\n",
       "       [ 53.],\n",
       "       [ 54.],\n",
       "       [ 44.],\n",
       "       [ 48.],\n",
       "       [ 53.],\n",
       "       [ 39.],\n",
       "       [ 52.],\n",
       "       [ 56.],\n",
       "       [130.],\n",
       "       [100.],\n",
       "       [ 59.],\n",
       "       [ 43.],\n",
       "       [ 61.],\n",
       "       [ 67.],\n",
       "       [ 50.],\n",
       "       [ 62.],\n",
       "       [ 63.],\n",
       "       [ 55.],\n",
       "       [ 47.],\n",
       "       [ 64.],\n",
       "       [117.],\n",
       "       [159.],\n",
       "       [201.],\n",
       "       [163.],\n",
       "       [ 60.],\n",
       "       [ 49.],\n",
       "       [ 47.],\n",
       "       [ 48.],\n",
       "       [ 48.],\n",
       "       [ 49.],\n",
       "       [ 37.],\n",
       "       [ 48.],\n",
       "       [ 54.],\n",
       "       [ 38.],\n",
       "       [ 49.],\n",
       "       [ 63.],\n",
       "       [135.],\n",
       "       [117.],\n",
       "       [ 65.],\n",
       "       [ 49.],\n",
       "       [ 43.],\n",
       "       [ 64.],\n",
       "       [ 60.],\n",
       "       [ 63.],\n",
       "       [ 43.],\n",
       "       [ 97.],\n",
       "       [153.],\n",
       "       [153.],\n",
       "       [187.],\n",
       "       [199.],\n",
       "       [196.],\n",
       "       [148.],\n",
       "       [ 64.],\n",
       "       [ 49.],\n",
       "       [ 43.],\n",
       "       [ 42.],\n",
       "       [ 42.],\n",
       "       [ 42.],\n",
       "       [ 48.],\n",
       "       [ 42.],\n",
       "       [ 48.],\n",
       "       [ 47.],\n",
       "       [ 49.],\n",
       "       [ 50.],\n",
       "       [133.],\n",
       "       [169.],\n",
       "       [ 34.],\n",
       "       [135.],\n",
       "       [176.],\n",
       "       [173.],\n",
       "       [168.],\n",
       "       [169.],\n",
       "       [155.],\n",
       "       [183.],\n",
       "       [207.],\n",
       "       [187.],\n",
       "       [185.],\n",
       "       [151.],\n",
       "       [101.],\n",
       "       [ 65.],\n",
       "       [ 46.],\n",
       "       [ 63.],\n",
       "       [ 45.],\n",
       "       [ 45.],\n",
       "       [ 44.],\n",
       "       [ 43.],\n",
       "       [ 55.],\n",
       "       [ 41.],\n",
       "       [ 44.],\n",
       "       [ 51.],\n",
       "       [ 50.],\n",
       "       [ 41.],\n",
       "       [103.],\n",
       "       [153.],\n",
       "       [170.],\n",
       "       [146.],\n",
       "       [149.],\n",
       "       [181.],\n",
       "       [188.],\n",
       "       [162.],\n",
       "       [190.],\n",
       "       [181.],\n",
       "       [176.],\n",
       "       [101.],\n",
       "       [ 51.],\n",
       "       [ 39.],\n",
       "       [ 49.],\n",
       "       [ 60.],\n",
       "       [ 45.],\n",
       "       [ 27.],\n",
       "       [ 49.],\n",
       "       [ 49.],\n",
       "       [ 49.],\n",
       "       [ 49.],\n",
       "       [ 50.],\n",
       "       [ 47.],\n",
       "       [ 46.],\n",
       "       [ 45.],\n",
       "       [ 49.],\n",
       "       [ 48.],\n",
       "       [ 62.],\n",
       "       [ 73.],\n",
       "       [197.],\n",
       "       [199.],\n",
       "       [148.],\n",
       "       [ 82.],\n",
       "       [136.],\n",
       "       [189.],\n",
       "       [177.],\n",
       "       [ 71.],\n",
       "       [ 63.],\n",
       "       [ 48.],\n",
       "       [ 46.],\n",
       "       [ 46.],\n",
       "       [ 36.],\n",
       "       [ 34.],\n",
       "       [ 43.],\n",
       "       [ 51.],\n",
       "       [ 43.],\n",
       "       [ 44.],\n",
       "       [ 45.],\n",
       "       [ 47.],\n",
       "       [ 43.],\n",
       "       [ 52.],\n",
       "       [ 50.],\n",
       "       [ 38.],\n",
       "       [ 44.],\n",
       "       [ 55.],\n",
       "       [ 44.],\n",
       "       [ 37.],\n",
       "       [ 42.],\n",
       "       [126.],\n",
       "       [187.],\n",
       "       [160.],\n",
       "       [187.],\n",
       "       [183.],\n",
       "       [ 84.],\n",
       "       [ 48.],\n",
       "       [ 37.],\n",
       "       [ 41.],\n",
       "       [ 45.],\n",
       "       [ 55.],\n",
       "       [ 52.],\n",
       "       [ 39.],\n",
       "       [ 37.],\n",
       "       [ 37.],\n",
       "       [ 39.],\n",
       "       [ 41.],\n",
       "       [ 44.],\n",
       "       [ 47.],\n",
       "       [ 43.],\n",
       "       [ 52.],\n",
       "       [ 50.],\n",
       "       [ 38.],\n",
       "       [ 40.],\n",
       "       [ 53.],\n",
       "       [ 50.],\n",
       "       [ 61.],\n",
       "       [ 44.],\n",
       "       [ 54.],\n",
       "       [170.],\n",
       "       [189.],\n",
       "       [158.],\n",
       "       [159.],\n",
       "       [ 54.],\n",
       "       [ 68.],\n",
       "       [ 48.],\n",
       "       [ 51.],\n",
       "       [ 40.],\n",
       "       [ 45.],\n",
       "       [ 51.],\n",
       "       [ 40.],\n",
       "       [ 41.],\n",
       "       [ 45.],\n",
       "       [ 45.],\n",
       "       [ 48.],\n",
       "       [ 53.],\n",
       "       [ 57.],\n",
       "       [ 46.],\n",
       "       [ 52.],\n",
       "       [ 54.],\n",
       "       [ 49.],\n",
       "       [ 43.],\n",
       "       [ 43.],\n",
       "       [ 45.],\n",
       "       [ 46.],\n",
       "       [ 35.],\n",
       "       [166.],\n",
       "       [177.],\n",
       "       [189.],\n",
       "       [ 40.],\n",
       "       [165.],\n",
       "       [187.],\n",
       "       [ 65.],\n",
       "       [ 62.],\n",
       "       [ 57.],\n",
       "       [ 44.],\n",
       "       [ 40.],\n",
       "       [ 40.],\n",
       "       [ 45.],\n",
       "       [ 51.],\n",
       "       [ 51.],\n",
       "       [ 53.],\n",
       "       [ 50.],\n",
       "       [ 47.],\n",
       "       [ 46.],\n",
       "       [ 52.],\n",
       "       [ 39.],\n",
       "       [ 38.],\n",
       "       [ 52.],\n",
       "       [ 54.],\n",
       "       [ 47.],\n",
       "       [ 59.],\n",
       "       [ 83.],\n",
       "       [158.],\n",
       "       [161.],\n",
       "       [123.],\n",
       "       [ 35.],\n",
       "       [ 68.],\n",
       "       [ 23.],\n",
       "       [165.],\n",
       "       [174.],\n",
       "       [ 75.],\n",
       "       [ 44.],\n",
       "       [ 50.],\n",
       "       [ 50.],\n",
       "       [ 58.],\n",
       "       [ 72.],\n",
       "       [ 35.],\n",
       "       [ 61.],\n",
       "       [ 47.],\n",
       "       [ 45.],\n",
       "       [ 42.],\n",
       "       [ 40.],\n",
       "       [ 52.],\n",
       "       [ 46.],\n",
       "       [ 50.],\n",
       "       [ 56.],\n",
       "       [ 49.],\n",
       "       [ 47.],\n",
       "       [ 79.],\n",
       "       [123.],\n",
       "       [191.],\n",
       "       [107.],\n",
       "       [ 43.],\n",
       "       [ 60.],\n",
       "       [ 46.],\n",
       "       [ 67.],\n",
       "       [ 18.],\n",
       "       [184.],\n",
       "       [171.],\n",
       "       [ 87.],\n",
       "       [ 53.],\n",
       "       [ 54.],\n",
       "       [ 20.],\n",
       "       [ 49.],\n",
       "       [ 47.],\n",
       "       [ 43.],\n",
       "       [ 46.],\n",
       "       [ 44.],\n",
       "       [ 41.],\n",
       "       [ 40.],\n",
       "       [ 49.],\n",
       "       [ 55.],\n",
       "       [ 54.],\n",
       "       [ 46.],\n",
       "       [ 47.],\n",
       "       [ 73.],\n",
       "       [112.],\n",
       "       [141.],\n",
       "       [ 87.],\n",
       "       [ 56.],\n",
       "       [ 42.],\n",
       "       [ 36.],\n",
       "       [ 51.],\n",
       "       [ 52.],\n",
       "       [ 46.],\n",
       "       [ 55.],\n",
       "       [148.],\n",
       "       [172.],\n",
       "       [ 59.],\n",
       "       [ 48.],\n",
       "       [ 59.],\n",
       "       [ 48.],\n",
       "       [ 44.],\n",
       "       [ 43.],\n",
       "       [ 51.],\n",
       "       [ 49.],\n",
       "       [ 46.],\n",
       "       [ 45.],\n",
       "       [ 50.],\n",
       "       [ 44.],\n",
       "       [ 37.],\n",
       "       [ 39.],\n",
       "       [ 61.],\n",
       "       [ 96.],\n",
       "       [129.],\n",
       "       [147.],\n",
       "       [ 57.],\n",
       "       [ 44.],\n",
       "       [ 29.],\n",
       "       [ 60.],\n",
       "       [ 44.],\n",
       "       [ 40.],\n",
       "       [ 58.],\n",
       "       [ 45.],\n",
       "       [ 94.],\n",
       "       [171.],\n",
       "       [112.],\n",
       "       [ 75.],\n",
       "       [ 48.],\n",
       "       [ 49.],\n",
       "       [ 69.],\n",
       "       [ 40.],\n",
       "       [ 53.],\n",
       "       [ 50.],\n",
       "       [ 47.],\n",
       "       [ 46.],\n",
       "       [ 47.],\n",
       "       [ 40.],\n",
       "       [ 45.],\n",
       "       [ 58.],\n",
       "       [ 60.],\n",
       "       [ 64.],\n",
       "       [ 98.],\n",
       "       [140.],\n",
       "       [127.],\n",
       "       [ 68.],\n",
       "       [ 43.],\n",
       "       [ 45.],\n",
       "       [ 68.],\n",
       "       [ 35.],\n",
       "       [ 32.],\n",
       "       [ 72.],\n",
       "       [ 38.],\n",
       "       [165.],\n",
       "       [156.],\n",
       "       [ 47.],\n",
       "       [ 53.],\n",
       "       [ 55.],\n",
       "       [ 23.],\n",
       "       [ 67.],\n",
       "       [ 49.],\n",
       "       [ 46.],\n",
       "       [ 43.],\n",
       "       [ 42.],\n",
       "       [ 44.],\n",
       "       [ 46.],\n",
       "       [ 58.],\n",
       "       [ 64.],\n",
       "       [ 47.],\n",
       "       [ 33.],\n",
       "       [ 57.],\n",
       "       [ 96.],\n",
       "       [123.],\n",
       "       [168.],\n",
       "       [ 62.],\n",
       "       [ 51.],\n",
       "       [ 41.],\n",
       "       [ 39.],\n",
       "       [ 71.],\n",
       "       [ 53.],\n",
       "       [ 64.],\n",
       "       [113.],\n",
       "       [162.],\n",
       "       [ 74.],\n",
       "       [ 56.],\n",
       "       [ 59.],\n",
       "       [ 46.],\n",
       "       [ 47.],\n",
       "       [ 48.],\n",
       "       [ 45.],\n",
       "       [ 42.],\n",
       "       [ 41.],\n",
       "       [ 48.],\n",
       "       [ 45.],\n",
       "       [ 41.],\n",
       "       [ 41.],\n",
       "       [ 47.],\n",
       "       [ 52.],\n",
       "       [ 48.],\n",
       "       [ 40.],\n",
       "       [106.],\n",
       "       [146.],\n",
       "       [156.],\n",
       "       [168.],\n",
       "       [ 87.],\n",
       "       [ 74.],\n",
       "       [ 57.],\n",
       "       [ 98.],\n",
       "       [186.],\n",
       "       [168.],\n",
       "       [141.],\n",
       "       [ 58.],\n",
       "       [ 56.],\n",
       "       [ 35.],\n",
       "       [ 58.],\n",
       "       [ 38.],\n",
       "       [ 51.],\n",
       "       [ 48.],\n",
       "       [ 45.],\n",
       "       [ 44.],\n",
       "       [ 46.],\n",
       "       [ 49.],\n",
       "       [ 48.],\n",
       "       [ 44.],\n",
       "       [ 43.],\n",
       "       [ 45.],\n",
       "       [ 44.],\n",
       "       [ 40.],\n",
       "       [ 45.],\n",
       "       [ 64.],\n",
       "       [107.],\n",
       "       [156.],\n",
       "       [178.],\n",
       "       [175.],\n",
       "       [177.],\n",
       "       [189.],\n",
       "       [182.],\n",
       "       [138.],\n",
       "       [ 82.],\n",
       "       [ 48.],\n",
       "       [ 44.],\n",
       "       [ 52.],\n",
       "       [ 56.],\n",
       "       [ 53.],\n",
       "       [ 54.],\n",
       "       [ 49.],\n",
       "       [ 46.],\n",
       "       [ 47.],\n",
       "       [ 50.],\n",
       "       [ 52.],\n",
       "       [ 51.],\n",
       "       [ 47.],\n",
       "       [ 47.],\n",
       "       [ 49.],\n",
       "       [ 47.],\n",
       "       [ 43.],\n",
       "       [ 46.],\n",
       "       [ 43.],\n",
       "       [ 46.],\n",
       "       [ 53.],\n",
       "       [ 52.],\n",
       "       [ 46.],\n",
       "       [ 50.],\n",
       "       [ 60.],\n",
       "       [ 46.],\n",
       "       [ 40.],\n",
       "       [ 37.],\n",
       "       [ 43.],\n",
       "       [ 54.],\n",
       "       [ 59.],\n",
       "       [ 55.],\n",
       "       [ 48.],\n",
       "       [ 57.],\n",
       "       [ 51.],\n",
       "       [ 47.],\n",
       "       [ 47.],\n",
       "       [ 51.],\n",
       "       [ 52.],\n",
       "       [ 51.],\n",
       "       [ 48.],\n",
       "       [ 48.],\n",
       "       [ 50.],\n",
       "       [ 47.],\n",
       "       [ 42.],\n",
       "       [ 50.],\n",
       "       [ 48.],\n",
       "       [ 47.],\n",
       "       [ 47.],\n",
       "       [ 49.],\n",
       "       [ 52.],\n",
       "       [ 54.],\n",
       "       [ 54.],\n",
       "       [ 34.],\n",
       "       [ 41.],\n",
       "       [ 51.],\n",
       "       [ 56.],\n",
       "       [ 55.],\n",
       "       [ 51.],\n",
       "       [ 47.],\n",
       "       [ 44.],\n",
       "       [ 60.],\n",
       "       [ 52.],\n",
       "       [ 47.],\n",
       "       [ 50.],\n",
       "       [ 48.],\n",
       "       [ 49.],\n",
       "       [ 47.],\n",
       "       [ 44.],\n",
       "       [ 45.],\n",
       "       [ 47.],\n",
       "       [ 43.],\n",
       "       [ 36.],\n",
       "       [ 33.],\n",
       "       [ 38.],\n",
       "       [ 40.],\n",
       "       [ 41.],\n",
       "       [ 48.],\n",
       "       [ 55.],\n",
       "       [ 48.],\n",
       "       [ 35.],\n",
       "       [ 50.],\n",
       "       [ 53.],\n",
       "       [ 54.],\n",
       "       [ 49.],\n",
       "       [ 43.],\n",
       "       [ 43.],\n",
       "       [ 50.],\n",
       "       [ 57.],\n",
       "       [ 58.],\n",
       "       [ 49.],\n",
       "       [ 46.],\n",
       "       [ 54.]])"
      ]
     },
     "execution_count": 175,
     "metadata": {},
     "output_type": "execute_result"
    }
   ],
   "source": [
    "reshaped"
   ]
  },
  {
   "cell_type": "code",
   "execution_count": 176,
   "id": "77bbcb3f",
   "metadata": {},
   "outputs": [
    {
     "data": {
      "text/plain": [
       "5"
      ]
     },
     "execution_count": 176,
     "metadata": {},
     "output_type": "execute_result"
    }
   ],
   "source": [
    "nn_relu.predict(reshaped)"
   ]
  },
  {
   "cell_type": "code",
   "execution_count": 177,
   "id": "59ffef36",
   "metadata": {},
   "outputs": [
    {
     "data": {
      "text/plain": [
       "(10000,)"
      ]
     },
     "execution_count": 177,
     "metadata": {},
     "output_type": "execute_result"
    }
   ],
   "source": [
    "y_test[0].shape"
   ]
  },
  {
   "cell_type": "code",
   "execution_count": null,
   "id": "5ffab972",
   "metadata": {},
   "outputs": [],
   "source": []
  }
 ],
 "metadata": {
  "kernelspec": {
   "display_name": "Python 3",
   "language": "python",
   "name": "python3"
  },
  "language_info": {
   "codemirror_mode": {
    "name": "ipython",
    "version": 3
   },
   "file_extension": ".py",
   "mimetype": "text/x-python",
   "name": "python",
   "nbconvert_exporter": "python",
   "pygments_lexer": "ipython3",
   "version": "3.8.8"
  },
  "toc": {
   "base_numbering": 1,
   "nav_menu": {},
   "number_sections": true,
   "sideBar": true,
   "skip_h1_title": true,
   "title_cell": "Table of Contents",
   "title_sidebar": "Contents",
   "toc_cell": true,
   "toc_position": {
    "height": "calc(100% - 180px)",
    "left": "10px",
    "top": "150px",
    "width": "165px"
   },
   "toc_section_display": true,
   "toc_window_display": false
  },
  "varInspector": {
   "cols": {
    "lenName": 16,
    "lenType": 16,
    "lenVar": 40
   },
   "kernels_config": {
    "python": {
     "delete_cmd_postfix": "",
     "delete_cmd_prefix": "del ",
     "library": "var_list.py",
     "varRefreshCmd": "print(var_dic_list())"
    },
    "r": {
     "delete_cmd_postfix": ") ",
     "delete_cmd_prefix": "rm(",
     "library": "var_list.r",
     "varRefreshCmd": "cat(var_dic_list()) "
    }
   },
   "types_to_exclude": [
    "module",
    "function",
    "builtin_function_or_method",
    "instance",
    "_Feature"
   ],
   "window_display": false
  }
 },
 "nbformat": 4,
 "nbformat_minor": 5
}
